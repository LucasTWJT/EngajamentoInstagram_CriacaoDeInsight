{
  "cells": [
    {
      "cell_type": "markdown",
      "metadata": {
        "id": "view-in-github",
        "colab_type": "text"
      },
      "source": [
        "<a href=\"https://colab.research.google.com/github/LucasTWJT/EngajamentoInstagram_CriacaoDeInsight/blob/main/An%C3%A1lise_do_engajamento_de_Instagram.ipynb\" target=\"_parent\"><img src=\"https://colab.research.google.com/assets/colab-badge.svg\" alt=\"Open In Colab\"/></a>"
      ]
    },
    {
      "cell_type": "markdown",
      "id": "df62a466",
      "metadata": {
        "id": "df62a466"
      },
      "source": [
        "# Analisando o engajamento do Instagram\n",
        "\n",
        "### Perguntas?\n",
        "- Qual tipo de conteúdo **mais engaja** no Instagram da minha empresa?\n",
        "<br><br>\n",
        "- Temos a base de dados do Instagram **desde que o usuário começou a postar na marca até o dia 27/março**\n",
        "<br><br>\n",
        "- Ele também dá alguns direcionamentos:\n",
        "    - Podem ignorar a coluna visualizações, queremos entender apenas curtidas, comentários e interações\n",
        "    - Tags vazias é que realmente não possuem tag (favor tratar como vazio)"
      ]
    },
    {
      "cell_type": "markdown",
      "id": "d387ddca",
      "metadata": {
        "id": "d387ddca"
      },
      "source": [
        "### Vamos importar e visualizar a nossa base"
      ]
    },
    {
      "cell_type": "code",
      "execution_count": null,
      "id": "67161c37",
      "metadata": {
        "id": "67161c37"
      },
      "outputs": [],
      "source": [
        "# Importando o pandas\n",
        "import pandas as pd"
      ]
    },
    {
      "cell_type": "code",
      "execution_count": null,
      "id": "2c773610",
      "metadata": {
        "id": "2c773610"
      },
      "outputs": [],
      "source": [
        "# Importar a base em excel\n",
        "df = pd.read_excel(r'/content/sample_data/Engajamento no Instagram.xlsx')\n",
        "df.drop('Visualizações', axis=1, inplace=True)"
      ]
    },
    {
      "cell_type": "code",
      "execution_count": null,
      "id": "5297ea65",
      "metadata": {
        "colab": {
          "base_uri": "https://localhost:8080/",
          "height": 224
        },
        "id": "5297ea65",
        "outputId": "a8c987c3-e8be-4965-e0cd-953cfeef9bc5"
      },
      "outputs": [
        {
          "output_type": "display_data",
          "data": {
            "text/plain": [
              "    Tipo       Data  Curtidas  Comentários           Tags Pessoas Campanhas  \\\n",
              "0   Foto 2021-09-11      2858           16           Loja       N         N   \n",
              "1   Foto 2021-09-11      2930           28  Loja/Produtos       N         N   \n",
              "2   Foto 2021-09-11      2807            9           Loja       N         N   \n",
              "3  Vídeo 2021-09-12      5115           49       Produtos       N         N   \n",
              "4   Foto 2021-09-13      4392           45       Produtos       S         N   \n",
              "\n",
              "  Carrossel  Interacoes   \n",
              "0       NaN         2874  \n",
              "1       NaN         2958  \n",
              "2       NaN         2816  \n",
              "3       NaN         5164  \n",
              "4       NaN         4437  "
            ],
            "text/html": [
              "\n",
              "  <div id=\"df-6c3f3519-270d-4589-817a-6021e7a674b0\">\n",
              "    <div class=\"colab-df-container\">\n",
              "      <div>\n",
              "<style scoped>\n",
              "    .dataframe tbody tr th:only-of-type {\n",
              "        vertical-align: middle;\n",
              "    }\n",
              "\n",
              "    .dataframe tbody tr th {\n",
              "        vertical-align: top;\n",
              "    }\n",
              "\n",
              "    .dataframe thead th {\n",
              "        text-align: right;\n",
              "    }\n",
              "</style>\n",
              "<table border=\"1\" class=\"dataframe\">\n",
              "  <thead>\n",
              "    <tr style=\"text-align: right;\">\n",
              "      <th></th>\n",
              "      <th>Tipo</th>\n",
              "      <th>Data</th>\n",
              "      <th>Curtidas</th>\n",
              "      <th>Comentários</th>\n",
              "      <th>Tags</th>\n",
              "      <th>Pessoas</th>\n",
              "      <th>Campanhas</th>\n",
              "      <th>Carrossel</th>\n",
              "      <th>Interacoes</th>\n",
              "    </tr>\n",
              "  </thead>\n",
              "  <tbody>\n",
              "    <tr>\n",
              "      <th>0</th>\n",
              "      <td>Foto</td>\n",
              "      <td>2021-09-11</td>\n",
              "      <td>2858</td>\n",
              "      <td>16</td>\n",
              "      <td>Loja</td>\n",
              "      <td>N</td>\n",
              "      <td>N</td>\n",
              "      <td>NaN</td>\n",
              "      <td>2874</td>\n",
              "    </tr>\n",
              "    <tr>\n",
              "      <th>1</th>\n",
              "      <td>Foto</td>\n",
              "      <td>2021-09-11</td>\n",
              "      <td>2930</td>\n",
              "      <td>28</td>\n",
              "      <td>Loja/Produtos</td>\n",
              "      <td>N</td>\n",
              "      <td>N</td>\n",
              "      <td>NaN</td>\n",
              "      <td>2958</td>\n",
              "    </tr>\n",
              "    <tr>\n",
              "      <th>2</th>\n",
              "      <td>Foto</td>\n",
              "      <td>2021-09-11</td>\n",
              "      <td>2807</td>\n",
              "      <td>9</td>\n",
              "      <td>Loja</td>\n",
              "      <td>N</td>\n",
              "      <td>N</td>\n",
              "      <td>NaN</td>\n",
              "      <td>2816</td>\n",
              "    </tr>\n",
              "    <tr>\n",
              "      <th>3</th>\n",
              "      <td>Vídeo</td>\n",
              "      <td>2021-09-12</td>\n",
              "      <td>5115</td>\n",
              "      <td>49</td>\n",
              "      <td>Produtos</td>\n",
              "      <td>N</td>\n",
              "      <td>N</td>\n",
              "      <td>NaN</td>\n",
              "      <td>5164</td>\n",
              "    </tr>\n",
              "    <tr>\n",
              "      <th>4</th>\n",
              "      <td>Foto</td>\n",
              "      <td>2021-09-13</td>\n",
              "      <td>4392</td>\n",
              "      <td>45</td>\n",
              "      <td>Produtos</td>\n",
              "      <td>S</td>\n",
              "      <td>N</td>\n",
              "      <td>NaN</td>\n",
              "      <td>4437</td>\n",
              "    </tr>\n",
              "  </tbody>\n",
              "</table>\n",
              "</div>\n",
              "      <button class=\"colab-df-convert\" onclick=\"convertToInteractive('df-6c3f3519-270d-4589-817a-6021e7a674b0')\"\n",
              "              title=\"Convert this dataframe to an interactive table.\"\n",
              "              style=\"display:none;\">\n",
              "        \n",
              "  <svg xmlns=\"http://www.w3.org/2000/svg\" height=\"24px\"viewBox=\"0 0 24 24\"\n",
              "       width=\"24px\">\n",
              "    <path d=\"M0 0h24v24H0V0z\" fill=\"none\"/>\n",
              "    <path d=\"M18.56 5.44l.94 2.06.94-2.06 2.06-.94-2.06-.94-.94-2.06-.94 2.06-2.06.94zm-11 1L8.5 8.5l.94-2.06 2.06-.94-2.06-.94L8.5 2.5l-.94 2.06-2.06.94zm10 10l.94 2.06.94-2.06 2.06-.94-2.06-.94-.94-2.06-.94 2.06-2.06.94z\"/><path d=\"M17.41 7.96l-1.37-1.37c-.4-.4-.92-.59-1.43-.59-.52 0-1.04.2-1.43.59L10.3 9.45l-7.72 7.72c-.78.78-.78 2.05 0 2.83L4 21.41c.39.39.9.59 1.41.59.51 0 1.02-.2 1.41-.59l7.78-7.78 2.81-2.81c.8-.78.8-2.07 0-2.86zM5.41 20L4 18.59l7.72-7.72 1.47 1.35L5.41 20z\"/>\n",
              "  </svg>\n",
              "      </button>\n",
              "      \n",
              "  <style>\n",
              "    .colab-df-container {\n",
              "      display:flex;\n",
              "      flex-wrap:wrap;\n",
              "      gap: 12px;\n",
              "    }\n",
              "\n",
              "    .colab-df-convert {\n",
              "      background-color: #E8F0FE;\n",
              "      border: none;\n",
              "      border-radius: 50%;\n",
              "      cursor: pointer;\n",
              "      display: none;\n",
              "      fill: #1967D2;\n",
              "      height: 32px;\n",
              "      padding: 0 0 0 0;\n",
              "      width: 32px;\n",
              "    }\n",
              "\n",
              "    .colab-df-convert:hover {\n",
              "      background-color: #E2EBFA;\n",
              "      box-shadow: 0px 1px 2px rgba(60, 64, 67, 0.3), 0px 1px 3px 1px rgba(60, 64, 67, 0.15);\n",
              "      fill: #174EA6;\n",
              "    }\n",
              "\n",
              "    [theme=dark] .colab-df-convert {\n",
              "      background-color: #3B4455;\n",
              "      fill: #D2E3FC;\n",
              "    }\n",
              "\n",
              "    [theme=dark] .colab-df-convert:hover {\n",
              "      background-color: #434B5C;\n",
              "      box-shadow: 0px 1px 3px 1px rgba(0, 0, 0, 0.15);\n",
              "      filter: drop-shadow(0px 1px 2px rgba(0, 0, 0, 0.3));\n",
              "      fill: #FFFFFF;\n",
              "    }\n",
              "  </style>\n",
              "\n",
              "      <script>\n",
              "        const buttonEl =\n",
              "          document.querySelector('#df-6c3f3519-270d-4589-817a-6021e7a674b0 button.colab-df-convert');\n",
              "        buttonEl.style.display =\n",
              "          google.colab.kernel.accessAllowed ? 'block' : 'none';\n",
              "\n",
              "        async function convertToInteractive(key) {\n",
              "          const element = document.querySelector('#df-6c3f3519-270d-4589-817a-6021e7a674b0');\n",
              "          const dataTable =\n",
              "            await google.colab.kernel.invokeFunction('convertToInteractive',\n",
              "                                                     [key], {});\n",
              "          if (!dataTable) return;\n",
              "\n",
              "          const docLinkHtml = 'Like what you see? Visit the ' +\n",
              "            '<a target=\"_blank\" href=https://colab.research.google.com/notebooks/data_table.ipynb>data table notebook</a>'\n",
              "            + ' to learn more about interactive tables.';\n",
              "          element.innerHTML = '';\n",
              "          dataTable['output_type'] = 'display_data';\n",
              "          await google.colab.output.renderOutput(dataTable, element);\n",
              "          const docLink = document.createElement('div');\n",
              "          docLink.innerHTML = docLinkHtml;\n",
              "          element.appendChild(docLink);\n",
              "        }\n",
              "      </script>\n",
              "    </div>\n",
              "  </div>\n",
              "  "
            ]
          },
          "metadata": {}
        },
        {
          "output_type": "display_data",
          "data": {
            "text/plain": [
              "(52, 9)"
            ]
          },
          "metadata": {}
        }
      ],
      "source": [
        "# Visualizando as 5 primeiras linhas\n",
        "display(df.head(), df.shape)"
      ]
    },
    {
      "cell_type": "markdown",
      "id": "29cadf9a",
      "metadata": {
        "id": "29cadf9a"
      },
      "source": [
        "### Como ele pediu para não considerar a coluna visualizações, vamos retirar essa coluna da base"
      ]
    },
    {
      "cell_type": "code",
      "execution_count": null,
      "id": "79aa692b",
      "metadata": {
        "colab": {
          "base_uri": "https://localhost:8080/"
        },
        "id": "79aa692b",
        "outputId": "fd7c9f7e-43f8-4504-b7c2-1a134b2f0e4f"
      },
      "outputs": [
        {
          "output_type": "stream",
          "name": "stdout",
          "text": [
            "<class 'pandas.core.frame.DataFrame'>\n",
            "RangeIndex: 52 entries, 0 to 51\n",
            "Data columns (total 9 columns):\n",
            " #   Column       Non-Null Count  Dtype         \n",
            "---  ------       --------------  -----         \n",
            " 0   Tipo         52 non-null     object        \n",
            " 1   Data         52 non-null     datetime64[ns]\n",
            " 2   Curtidas     52 non-null     int64         \n",
            " 3   Comentários  52 non-null     int64         \n",
            " 4   Tags         44 non-null     object        \n",
            " 5   Pessoas      52 non-null     object        \n",
            " 6   Campanhas    52 non-null     object        \n",
            " 7   Carrossel    8 non-null      object        \n",
            " 8   Interacoes   52 non-null     int64         \n",
            "dtypes: datetime64[ns](1), int64(3), object(5)\n",
            "memory usage: 3.8+ KB\n"
          ]
        }
      ],
      "source": [
        "# Verificando as informações\n",
        "df.info()"
      ]
    },
    {
      "cell_type": "markdown",
      "id": "992f98c3",
      "metadata": {
        "id": "992f98c3"
      },
      "source": [
        "Carrossel com muito valores nulos."
      ]
    },
    {
      "cell_type": "markdown",
      "id": "9b1aeb55",
      "metadata": {
        "id": "9b1aeb55"
      },
      "source": [
        "### Carrossel possui apenas 8 valores não nulos\n",
        "- Vamos entender os valores de carrossel"
      ]
    },
    {
      "cell_type": "code",
      "execution_count": null,
      "id": "24551e89",
      "metadata": {
        "colab": {
          "base_uri": "https://localhost:8080/"
        },
        "id": "24551e89",
        "outputId": "962298f1-6457-443a-a6ff-c16db830b638"
      },
      "outputs": [
        {
          "output_type": "execute_result",
          "data": {
            "text/plain": [
              "S    8\n",
              "Name: Carrossel, dtype: int64"
            ]
          },
          "metadata": {},
          "execution_count": 8
        }
      ],
      "source": [
        "# Contando os valores que aparecem na coluna Carrossel\n",
        "df.Carrossel.value_counts()"
      ]
    },
    {
      "cell_type": "code",
      "execution_count": null,
      "id": "a9a7beee",
      "metadata": {
        "colab": {
          "base_uri": "https://localhost:8080/",
          "height": 363
        },
        "id": "a9a7beee",
        "outputId": "ffab78ac-c5e2-44ba-cadf-9e0a6ef68bff"
      },
      "outputs": [
        {
          "output_type": "execute_result",
          "data": {
            "text/plain": [
              "    Tipo Carrossel\n",
              "0   Foto       NaN\n",
              "1   Foto       NaN\n",
              "2   Foto       NaN\n",
              "3  Vídeo       NaN\n",
              "4   Foto       NaN\n",
              "5   Foto         S\n",
              "6   Foto       NaN\n",
              "7   Foto       NaN\n",
              "8   Foto         S\n",
              "9  Vídeo       NaN"
            ],
            "text/html": [
              "\n",
              "  <div id=\"df-614c365c-9c00-406a-acd9-f75c84b1b85b\">\n",
              "    <div class=\"colab-df-container\">\n",
              "      <div>\n",
              "<style scoped>\n",
              "    .dataframe tbody tr th:only-of-type {\n",
              "        vertical-align: middle;\n",
              "    }\n",
              "\n",
              "    .dataframe tbody tr th {\n",
              "        vertical-align: top;\n",
              "    }\n",
              "\n",
              "    .dataframe thead th {\n",
              "        text-align: right;\n",
              "    }\n",
              "</style>\n",
              "<table border=\"1\" class=\"dataframe\">\n",
              "  <thead>\n",
              "    <tr style=\"text-align: right;\">\n",
              "      <th></th>\n",
              "      <th>Tipo</th>\n",
              "      <th>Carrossel</th>\n",
              "    </tr>\n",
              "  </thead>\n",
              "  <tbody>\n",
              "    <tr>\n",
              "      <th>0</th>\n",
              "      <td>Foto</td>\n",
              "      <td>NaN</td>\n",
              "    </tr>\n",
              "    <tr>\n",
              "      <th>1</th>\n",
              "      <td>Foto</td>\n",
              "      <td>NaN</td>\n",
              "    </tr>\n",
              "    <tr>\n",
              "      <th>2</th>\n",
              "      <td>Foto</td>\n",
              "      <td>NaN</td>\n",
              "    </tr>\n",
              "    <tr>\n",
              "      <th>3</th>\n",
              "      <td>Vídeo</td>\n",
              "      <td>NaN</td>\n",
              "    </tr>\n",
              "    <tr>\n",
              "      <th>4</th>\n",
              "      <td>Foto</td>\n",
              "      <td>NaN</td>\n",
              "    </tr>\n",
              "    <tr>\n",
              "      <th>5</th>\n",
              "      <td>Foto</td>\n",
              "      <td>S</td>\n",
              "    </tr>\n",
              "    <tr>\n",
              "      <th>6</th>\n",
              "      <td>Foto</td>\n",
              "      <td>NaN</td>\n",
              "    </tr>\n",
              "    <tr>\n",
              "      <th>7</th>\n",
              "      <td>Foto</td>\n",
              "      <td>NaN</td>\n",
              "    </tr>\n",
              "    <tr>\n",
              "      <th>8</th>\n",
              "      <td>Foto</td>\n",
              "      <td>S</td>\n",
              "    </tr>\n",
              "    <tr>\n",
              "      <th>9</th>\n",
              "      <td>Vídeo</td>\n",
              "      <td>NaN</td>\n",
              "    </tr>\n",
              "  </tbody>\n",
              "</table>\n",
              "</div>\n",
              "      <button class=\"colab-df-convert\" onclick=\"convertToInteractive('df-614c365c-9c00-406a-acd9-f75c84b1b85b')\"\n",
              "              title=\"Convert this dataframe to an interactive table.\"\n",
              "              style=\"display:none;\">\n",
              "        \n",
              "  <svg xmlns=\"http://www.w3.org/2000/svg\" height=\"24px\"viewBox=\"0 0 24 24\"\n",
              "       width=\"24px\">\n",
              "    <path d=\"M0 0h24v24H0V0z\" fill=\"none\"/>\n",
              "    <path d=\"M18.56 5.44l.94 2.06.94-2.06 2.06-.94-2.06-.94-.94-2.06-.94 2.06-2.06.94zm-11 1L8.5 8.5l.94-2.06 2.06-.94-2.06-.94L8.5 2.5l-.94 2.06-2.06.94zm10 10l.94 2.06.94-2.06 2.06-.94-2.06-.94-.94-2.06-.94 2.06-2.06.94z\"/><path d=\"M17.41 7.96l-1.37-1.37c-.4-.4-.92-.59-1.43-.59-.52 0-1.04.2-1.43.59L10.3 9.45l-7.72 7.72c-.78.78-.78 2.05 0 2.83L4 21.41c.39.39.9.59 1.41.59.51 0 1.02-.2 1.41-.59l7.78-7.78 2.81-2.81c.8-.78.8-2.07 0-2.86zM5.41 20L4 18.59l7.72-7.72 1.47 1.35L5.41 20z\"/>\n",
              "  </svg>\n",
              "      </button>\n",
              "      \n",
              "  <style>\n",
              "    .colab-df-container {\n",
              "      display:flex;\n",
              "      flex-wrap:wrap;\n",
              "      gap: 12px;\n",
              "    }\n",
              "\n",
              "    .colab-df-convert {\n",
              "      background-color: #E8F0FE;\n",
              "      border: none;\n",
              "      border-radius: 50%;\n",
              "      cursor: pointer;\n",
              "      display: none;\n",
              "      fill: #1967D2;\n",
              "      height: 32px;\n",
              "      padding: 0 0 0 0;\n",
              "      width: 32px;\n",
              "    }\n",
              "\n",
              "    .colab-df-convert:hover {\n",
              "      background-color: #E2EBFA;\n",
              "      box-shadow: 0px 1px 2px rgba(60, 64, 67, 0.3), 0px 1px 3px 1px rgba(60, 64, 67, 0.15);\n",
              "      fill: #174EA6;\n",
              "    }\n",
              "\n",
              "    [theme=dark] .colab-df-convert {\n",
              "      background-color: #3B4455;\n",
              "      fill: #D2E3FC;\n",
              "    }\n",
              "\n",
              "    [theme=dark] .colab-df-convert:hover {\n",
              "      background-color: #434B5C;\n",
              "      box-shadow: 0px 1px 3px 1px rgba(0, 0, 0, 0.15);\n",
              "      filter: drop-shadow(0px 1px 2px rgba(0, 0, 0, 0.3));\n",
              "      fill: #FFFFFF;\n",
              "    }\n",
              "  </style>\n",
              "\n",
              "      <script>\n",
              "        const buttonEl =\n",
              "          document.querySelector('#df-614c365c-9c00-406a-acd9-f75c84b1b85b button.colab-df-convert');\n",
              "        buttonEl.style.display =\n",
              "          google.colab.kernel.accessAllowed ? 'block' : 'none';\n",
              "\n",
              "        async function convertToInteractive(key) {\n",
              "          const element = document.querySelector('#df-614c365c-9c00-406a-acd9-f75c84b1b85b');\n",
              "          const dataTable =\n",
              "            await google.colab.kernel.invokeFunction('convertToInteractive',\n",
              "                                                     [key], {});\n",
              "          if (!dataTable) return;\n",
              "\n",
              "          const docLinkHtml = 'Like what you see? Visit the ' +\n",
              "            '<a target=\"_blank\" href=https://colab.research.google.com/notebooks/data_table.ipynb>data table notebook</a>'\n",
              "            + ' to learn more about interactive tables.';\n",
              "          element.innerHTML = '';\n",
              "          dataTable['output_type'] = 'display_data';\n",
              "          await google.colab.output.renderOutput(dataTable, element);\n",
              "          const docLink = document.createElement('div');\n",
              "          docLink.innerHTML = docLinkHtml;\n",
              "          element.appendChild(docLink);\n",
              "        }\n",
              "      </script>\n",
              "    </div>\n",
              "  </div>\n",
              "  "
            ]
          },
          "metadata": {},
          "execution_count": 9
        }
      ],
      "source": [
        "df[['Tipo', 'Carrossel']].head(10)"
      ]
    },
    {
      "cell_type": "markdown",
      "id": "a9ed0f4a",
      "metadata": {
        "id": "a9ed0f4a"
      },
      "source": [
        "A coluna carrossel pergunta para a linha se foi carrossel ou não, portanto, deveria ser uma coluna de \"Sim\" e \"Não\" e não uma de \"Sim\" e \"NaN\""
      ]
    },
    {
      "cell_type": "markdown",
      "id": "09b4c75c",
      "metadata": {
        "id": "09b4c75c"
      },
      "source": [
        "### Tratando os valores nulos"
      ]
    },
    {
      "cell_type": "code",
      "execution_count": null,
      "id": "110723e6",
      "metadata": {
        "id": "110723e6"
      },
      "outputs": [],
      "source": [
        "df.loc[df.Carrossel.isnull() == True, 'Carrossel'] = 'N'"
      ]
    },
    {
      "cell_type": "code",
      "execution_count": null,
      "id": "e976f020",
      "metadata": {
        "colab": {
          "base_uri": "https://localhost:8080/"
        },
        "id": "e976f020",
        "outputId": "0ec4d36f-0112-43d6-ffc1-db8cee14f09d"
      },
      "outputs": [
        {
          "output_type": "execute_result",
          "data": {
            "text/plain": [
              "0    N\n",
              "1    N\n",
              "2    N\n",
              "3    N\n",
              "4    N\n",
              "5    S\n",
              "6    N\n",
              "7    N\n",
              "8    S\n",
              "9    N\n",
              "Name: Carrossel, dtype: object"
            ]
          },
          "metadata": {},
          "execution_count": 11
        }
      ],
      "source": [
        "df.Carrossel.head(10)"
      ]
    },
    {
      "cell_type": "markdown",
      "id": "521cb806",
      "metadata": {
        "id": "521cb806"
      },
      "source": [
        "### Mostrando as informações estatísticas"
      ]
    },
    {
      "cell_type": "code",
      "execution_count": null,
      "id": "63bf723b",
      "metadata": {
        "colab": {
          "base_uri": "https://localhost:8080/",
          "height": 300
        },
        "id": "63bf723b",
        "outputId": "8a96a486-73ab-4d12-be4d-3d38e9164821"
      },
      "outputs": [
        {
          "output_type": "execute_result",
          "data": {
            "text/plain": [
              "           Curtidas  Comentários   Interacoes \n",
              "count     52.000000    52.000000     52.000000\n",
              "mean   12262.730769   189.500000  12452.230769\n",
              "std     8165.875326   170.687709   8299.390088\n",
              "min     2807.000000     9.000000   2816.000000\n",
              "25%     5492.000000    69.500000   5562.500000\n",
              "50%     9603.000000   128.000000   9773.500000\n",
              "75%    17621.750000   265.250000  17920.750000\n",
              "max    37351.000000   852.000000  37853.000000"
            ],
            "text/html": [
              "\n",
              "  <div id=\"df-dbb10148-d59b-4753-ae71-e0565f27614f\">\n",
              "    <div class=\"colab-df-container\">\n",
              "      <div>\n",
              "<style scoped>\n",
              "    .dataframe tbody tr th:only-of-type {\n",
              "        vertical-align: middle;\n",
              "    }\n",
              "\n",
              "    .dataframe tbody tr th {\n",
              "        vertical-align: top;\n",
              "    }\n",
              "\n",
              "    .dataframe thead th {\n",
              "        text-align: right;\n",
              "    }\n",
              "</style>\n",
              "<table border=\"1\" class=\"dataframe\">\n",
              "  <thead>\n",
              "    <tr style=\"text-align: right;\">\n",
              "      <th></th>\n",
              "      <th>Curtidas</th>\n",
              "      <th>Comentários</th>\n",
              "      <th>Interacoes</th>\n",
              "    </tr>\n",
              "  </thead>\n",
              "  <tbody>\n",
              "    <tr>\n",
              "      <th>count</th>\n",
              "      <td>52.000000</td>\n",
              "      <td>52.000000</td>\n",
              "      <td>52.000000</td>\n",
              "    </tr>\n",
              "    <tr>\n",
              "      <th>mean</th>\n",
              "      <td>12262.730769</td>\n",
              "      <td>189.500000</td>\n",
              "      <td>12452.230769</td>\n",
              "    </tr>\n",
              "    <tr>\n",
              "      <th>std</th>\n",
              "      <td>8165.875326</td>\n",
              "      <td>170.687709</td>\n",
              "      <td>8299.390088</td>\n",
              "    </tr>\n",
              "    <tr>\n",
              "      <th>min</th>\n",
              "      <td>2807.000000</td>\n",
              "      <td>9.000000</td>\n",
              "      <td>2816.000000</td>\n",
              "    </tr>\n",
              "    <tr>\n",
              "      <th>25%</th>\n",
              "      <td>5492.000000</td>\n",
              "      <td>69.500000</td>\n",
              "      <td>5562.500000</td>\n",
              "    </tr>\n",
              "    <tr>\n",
              "      <th>50%</th>\n",
              "      <td>9603.000000</td>\n",
              "      <td>128.000000</td>\n",
              "      <td>9773.500000</td>\n",
              "    </tr>\n",
              "    <tr>\n",
              "      <th>75%</th>\n",
              "      <td>17621.750000</td>\n",
              "      <td>265.250000</td>\n",
              "      <td>17920.750000</td>\n",
              "    </tr>\n",
              "    <tr>\n",
              "      <th>max</th>\n",
              "      <td>37351.000000</td>\n",
              "      <td>852.000000</td>\n",
              "      <td>37853.000000</td>\n",
              "    </tr>\n",
              "  </tbody>\n",
              "</table>\n",
              "</div>\n",
              "      <button class=\"colab-df-convert\" onclick=\"convertToInteractive('df-dbb10148-d59b-4753-ae71-e0565f27614f')\"\n",
              "              title=\"Convert this dataframe to an interactive table.\"\n",
              "              style=\"display:none;\">\n",
              "        \n",
              "  <svg xmlns=\"http://www.w3.org/2000/svg\" height=\"24px\"viewBox=\"0 0 24 24\"\n",
              "       width=\"24px\">\n",
              "    <path d=\"M0 0h24v24H0V0z\" fill=\"none\"/>\n",
              "    <path d=\"M18.56 5.44l.94 2.06.94-2.06 2.06-.94-2.06-.94-.94-2.06-.94 2.06-2.06.94zm-11 1L8.5 8.5l.94-2.06 2.06-.94-2.06-.94L8.5 2.5l-.94 2.06-2.06.94zm10 10l.94 2.06.94-2.06 2.06-.94-2.06-.94-.94-2.06-.94 2.06-2.06.94z\"/><path d=\"M17.41 7.96l-1.37-1.37c-.4-.4-.92-.59-1.43-.59-.52 0-1.04.2-1.43.59L10.3 9.45l-7.72 7.72c-.78.78-.78 2.05 0 2.83L4 21.41c.39.39.9.59 1.41.59.51 0 1.02-.2 1.41-.59l7.78-7.78 2.81-2.81c.8-.78.8-2.07 0-2.86zM5.41 20L4 18.59l7.72-7.72 1.47 1.35L5.41 20z\"/>\n",
              "  </svg>\n",
              "      </button>\n",
              "      \n",
              "  <style>\n",
              "    .colab-df-container {\n",
              "      display:flex;\n",
              "      flex-wrap:wrap;\n",
              "      gap: 12px;\n",
              "    }\n",
              "\n",
              "    .colab-df-convert {\n",
              "      background-color: #E8F0FE;\n",
              "      border: none;\n",
              "      border-radius: 50%;\n",
              "      cursor: pointer;\n",
              "      display: none;\n",
              "      fill: #1967D2;\n",
              "      height: 32px;\n",
              "      padding: 0 0 0 0;\n",
              "      width: 32px;\n",
              "    }\n",
              "\n",
              "    .colab-df-convert:hover {\n",
              "      background-color: #E2EBFA;\n",
              "      box-shadow: 0px 1px 2px rgba(60, 64, 67, 0.3), 0px 1px 3px 1px rgba(60, 64, 67, 0.15);\n",
              "      fill: #174EA6;\n",
              "    }\n",
              "\n",
              "    [theme=dark] .colab-df-convert {\n",
              "      background-color: #3B4455;\n",
              "      fill: #D2E3FC;\n",
              "    }\n",
              "\n",
              "    [theme=dark] .colab-df-convert:hover {\n",
              "      background-color: #434B5C;\n",
              "      box-shadow: 0px 1px 3px 1px rgba(0, 0, 0, 0.15);\n",
              "      filter: drop-shadow(0px 1px 2px rgba(0, 0, 0, 0.3));\n",
              "      fill: #FFFFFF;\n",
              "    }\n",
              "  </style>\n",
              "\n",
              "      <script>\n",
              "        const buttonEl =\n",
              "          document.querySelector('#df-dbb10148-d59b-4753-ae71-e0565f27614f button.colab-df-convert');\n",
              "        buttonEl.style.display =\n",
              "          google.colab.kernel.accessAllowed ? 'block' : 'none';\n",
              "\n",
              "        async function convertToInteractive(key) {\n",
              "          const element = document.querySelector('#df-dbb10148-d59b-4753-ae71-e0565f27614f');\n",
              "          const dataTable =\n",
              "            await google.colab.kernel.invokeFunction('convertToInteractive',\n",
              "                                                     [key], {});\n",
              "          if (!dataTable) return;\n",
              "\n",
              "          const docLinkHtml = 'Like what you see? Visit the ' +\n",
              "            '<a target=\"_blank\" href=https://colab.research.google.com/notebooks/data_table.ipynb>data table notebook</a>'\n",
              "            + ' to learn more about interactive tables.';\n",
              "          element.innerHTML = '';\n",
              "          dataTable['output_type'] = 'display_data';\n",
              "          await google.colab.output.renderOutput(dataTable, element);\n",
              "          const docLink = document.createElement('div');\n",
              "          docLink.innerHTML = docLinkHtml;\n",
              "          element.appendChild(docLink);\n",
              "        }\n",
              "      </script>\n",
              "    </div>\n",
              "  </div>\n",
              "  "
            ]
          },
          "metadata": {},
          "execution_count": 12
        }
      ],
      "source": [
        "# Descrição estatística da base\n",
        "df.describe()"
      ]
    },
    {
      "cell_type": "markdown",
      "id": "2e934fdf",
      "metadata": {
        "id": "2e934fdf"
      },
      "source": [
        "#### Observações:\n",
        " - Os máximos de inteções, comentários e curtidas são bem altos comparados a média e mediana;\n",
        " - Os mínimos também são extremos, tendo um desempenho bem pior do que os outros;\n",
        " - A média e mediana possuem uma significativa diferença, o que leva a crer que há alguns outliers nos dados.\n",
        "\n",
        "#### Hipóteses/Insights:\n",
        " - Compreender as características das postagens que estão com os maiores engajamentos;\n",
        " - Compreender as características das postagens que estão com o engajamento na média e mediana;\n",
        " - Compreender as postagens que não engajaram."
      ]
    },
    {
      "cell_type": "markdown",
      "id": "2f15ac81",
      "metadata": {
        "id": "2f15ac81"
      },
      "source": [
        "### Visualizando essas informações de maneira gráfica"
      ]
    },
    {
      "cell_type": "code",
      "execution_count": null,
      "id": "879e04e5",
      "metadata": {
        "colab": {
          "base_uri": "https://localhost:8080/",
          "height": 449
        },
        "id": "879e04e5",
        "outputId": "cdf6bff4-84c3-4151-90bc-cadab0e63dd8"
      },
      "outputs": [
        {
          "output_type": "display_data",
          "data": {
            "text/plain": [
              "<Figure size 640x480 with 1 Axes>"
            ],
            "image/png": "[encoded data removed]"
          },
          "metadata": {}
        }
      ],
      "source": [
        "# Um gráfico de dispersão ajudaria a entender melhor curtidas e comentários\n",
        "df.plot(kind=\"scatter\",x=\"Data\",y=\"Curtidas\");"
      ]
    },
    {
      "cell_type": "code",
      "execution_count": null,
      "id": "de5eaad2",
      "metadata": {
        "colab": {
          "base_uri": "https://localhost:8080/",
          "height": 449
        },
        "id": "de5eaad2",
        "outputId": "2fad6fe1-f01c-4e51-8e70-2a55046cbc80"
      },
      "outputs": [
        {
          "output_type": "display_data",
          "data": {
            "text/plain": [
              "<Figure size 640x480 with 1 Axes>"
            ],
            "image/png": "[encoded data removed]"
          },
          "metadata": {}
        }
      ],
      "source": [
        "# Podemos colocar curtidas e comentários no mesmo gráfico\n",
        "df.plot(kind=\"scatter\",x=\"Data\",y=\"Comentários\",color=\"red\",label=\"Comentários\");"
      ]
    },
    {
      "cell_type": "code",
      "execution_count": null,
      "id": "2805a090",
      "metadata": {
        "colab": {
          "base_uri": "https://localhost:8080/",
          "height": 435
        },
        "id": "2805a090",
        "outputId": "2d6b67fe-9d71-4b5c-89c7-814e48a4abd5"
      },
      "outputs": [
        {
          "output_type": "display_data",
          "data": {
            "text/plain": [
              "<Figure size 640x480 with 2 Axes>"
            ],
            "image/png": "[encoded data removed]"
          },
          "metadata": {}
        }
      ],
      "source": [
        "import seaborn as sns\n",
        "import numpy as np\n",
        "import matplotlib.pyplot as plt\n",
        "\n",
        "corr = df.select_dtypes(include=np.number).corr()\n",
        "mask = np.zeros_like(corr)\n",
        "mask[np.triu_indices_from(mask)] = True\n",
        "with sns.axes_style(\"white\"):\n",
        "    f, ax = plt.subplots()\n",
        "    ax = sns.heatmap(corr, mask=mask, vmax=1, vmin=-1, square=True, annot = True, cmap='Spectral', annot_kws={'size': 15})\n",
        "plt.show()"
      ]
    },
    {
      "cell_type": "markdown",
      "id": "1aba2d20",
      "metadata": {
        "id": "1aba2d20"
      },
      "source": [
        "- O gráfico e as informações estatítiscas não estão dizendo muita coisa pois existe uma grande dispersão entre curtidas e comentários\n",
        "- Precisamos verificar se existe um padrão usando as outras colunas de informações\n",
        "- Curtidas comentários e interações são altamente correlacionados, portanto quando avaliarmos um, consequentemente podemos considerar que os outros tiveram uma resposta similar."
      ]
    },
    {
      "cell_type": "markdown",
      "id": "dc2bfa7a",
      "metadata": {
        "id": "dc2bfa7a"
      },
      "source": [
        "### A primeira coisa que podemos fazer é pegar os 5 primeiros registros com mais e menos curtidas"
      ]
    },
    {
      "cell_type": "code",
      "execution_count": null,
      "id": "b7b33b91",
      "metadata": {
        "colab": {
          "base_uri": "https://localhost:8080/",
          "height": 363
        },
        "id": "b7b33b91",
        "outputId": "fb5505f2-01b2-4d6d-99e8-6162034befa0"
      },
      "outputs": [
        {
          "output_type": "execute_result",
          "data": {
            "text/plain": [
              "     Tipo       Data  Curtidas  Comentários                           Tags  \\\n",
              "39   Foto 2022-02-17     37351          502                      Promoções   \n",
              "30  Reels 2022-01-24     29981          502                         Trends   \n",
              "48   Foto 2022-03-20     29084          479  Datas comemorativas/Promoções   \n",
              "33   Foto 2022-02-06     24655          186                Influenciadores   \n",
              "26   Foto 2022-01-08     24585          354            Datas comemorativas   \n",
              "43   Foto 2022-03-04     24399          266                            NaN   \n",
              "40   Foto 2022-02-21     21621          213                Influenciadores   \n",
              "6    Foto 2021-09-19     21597          852                 Novos Produtos   \n",
              "34   Foto 2022-02-09     20660          292                Influenciadores   \n",
              "45  Reels 2022-03-08     19621          275                         Trends   \n",
              "\n",
              "   Pessoas Campanhas Carrossel  Interacoes   \n",
              "39       S         S         N        37853  \n",
              "30       S         S         N        30483  \n",
              "48       S         S         N        29563  \n",
              "33       S         S         N        24841  \n",
              "26       S         S         S        24939  \n",
              "43       S         S         N        24665  \n",
              "40       S         S         S        21834  \n",
              "6        S         S         N        22449  \n",
              "34       S         S         N        20952  \n",
              "45       S         S         N        19896  "
            ],
            "text/html": [
              "\n",
              "  <div id=\"df-ddcf1103-d9e4-4436-b5ab-c56b4aa11ee7\">\n",
              "    <div class=\"colab-df-container\">\n",
              "      <div>\n",
              "<style scoped>\n",
              "    .dataframe tbody tr th:only-of-type {\n",
              "        vertical-align: middle;\n",
              "    }\n",
              "\n",
              "    .dataframe tbody tr th {\n",
              "        vertical-align: top;\n",
              "    }\n",
              "\n",
              "    .dataframe thead th {\n",
              "        text-align: right;\n",
              "    }\n",
              "</style>\n",
              "<table border=\"1\" class=\"dataframe\">\n",
              "  <thead>\n",
              "    <tr style=\"text-align: right;\">\n",
              "      <th></th>\n",
              "      <th>Tipo</th>\n",
              "      <th>Data</th>\n",
              "      <th>Curtidas</th>\n",
              "      <th>Comentários</th>\n",
              "      <th>Tags</th>\n",
              "      <th>Pessoas</th>\n",
              "      <th>Campanhas</th>\n",
              "      <th>Carrossel</th>\n",
              "      <th>Interacoes</th>\n",
              "    </tr>\n",
              "  </thead>\n",
              "  <tbody>\n",
              "    <tr>\n",
              "      <th>39</th>\n",
              "      <td>Foto</td>\n",
              "      <td>2022-02-17</td>\n",
              "      <td>37351</td>\n",
              "      <td>502</td>\n",
              "      <td>Promoções</td>\n",
              "      <td>S</td>\n",
              "      <td>S</td>\n",
              "      <td>N</td>\n",
              "      <td>37853</td>\n",
              "    </tr>\n",
              "    <tr>\n",
              "      <th>30</th>\n",
              "      <td>Reels</td>\n",
              "      <td>2022-01-24</td>\n",
              "      <td>29981</td>\n",
              "      <td>502</td>\n",
              "      <td>Trends</td>\n",
              "      <td>S</td>\n",
              "      <td>S</td>\n",
              "      <td>N</td>\n",
              "      <td>30483</td>\n",
              "    </tr>\n",
              "    <tr>\n",
              "      <th>48</th>\n",
              "      <td>Foto</td>\n",
              "      <td>2022-03-20</td>\n",
              "      <td>29084</td>\n",
              "      <td>479</td>\n",
              "      <td>Datas comemorativas/Promoções</td>\n",
              "      <td>S</td>\n",
              "      <td>S</td>\n",
              "      <td>N</td>\n",
              "      <td>29563</td>\n",
              "    </tr>\n",
              "    <tr>\n",
              "      <th>33</th>\n",
              "      <td>Foto</td>\n",
              "      <td>2022-02-06</td>\n",
              "      <td>24655</td>\n",
              "      <td>186</td>\n",
              "      <td>Influenciadores</td>\n",
              "      <td>S</td>\n",
              "      <td>S</td>\n",
              "      <td>N</td>\n",
              "      <td>24841</td>\n",
              "    </tr>\n",
              "    <tr>\n",
              "      <th>26</th>\n",
              "      <td>Foto</td>\n",
              "      <td>2022-01-08</td>\n",
              "      <td>24585</td>\n",
              "      <td>354</td>\n",
              "      <td>Datas comemorativas</td>\n",
              "      <td>S</td>\n",
              "      <td>S</td>\n",
              "      <td>S</td>\n",
              "      <td>24939</td>\n",
              "    </tr>\n",
              "    <tr>\n",
              "      <th>43</th>\n",
              "      <td>Foto</td>\n",
              "      <td>2022-03-04</td>\n",
              "      <td>24399</td>\n",
              "      <td>266</td>\n",
              "      <td>NaN</td>\n",
              "      <td>S</td>\n",
              "      <td>S</td>\n",
              "      <td>N</td>\n",
              "      <td>24665</td>\n",
              "    </tr>\n",
              "    <tr>\n",
              "      <th>40</th>\n",
              "      <td>Foto</td>\n",
              "      <td>2022-02-21</td>\n",
              "      <td>21621</td>\n",
              "      <td>213</td>\n",
              "      <td>Influenciadores</td>\n",
              "      <td>S</td>\n",
              "      <td>S</td>\n",
              "      <td>S</td>\n",
              "      <td>21834</td>\n",
              "    </tr>\n",
              "    <tr>\n",
              "      <th>6</th>\n",
              "      <td>Foto</td>\n",
              "      <td>2021-09-19</td>\n",
              "      <td>21597</td>\n",
              "      <td>852</td>\n",
              "      <td>Novos Produtos</td>\n",
              "      <td>S</td>\n",
              "      <td>S</td>\n",
              "      <td>N</td>\n",
              "      <td>22449</td>\n",
              "    </tr>\n",
              "    <tr>\n",
              "      <th>34</th>\n",
              "      <td>Foto</td>\n",
              "      <td>2022-02-09</td>\n",
              "      <td>20660</td>\n",
              "      <td>292</td>\n",
              "      <td>Influenciadores</td>\n",
              "      <td>S</td>\n",
              "      <td>S</td>\n",
              "      <td>N</td>\n",
              "      <td>20952</td>\n",
              "    </tr>\n",
              "    <tr>\n",
              "      <th>45</th>\n",
              "      <td>Reels</td>\n",
              "      <td>2022-03-08</td>\n",
              "      <td>19621</td>\n",
              "      <td>275</td>\n",
              "      <td>Trends</td>\n",
              "      <td>S</td>\n",
              "      <td>S</td>\n",
              "      <td>N</td>\n",
              "      <td>19896</td>\n",
              "    </tr>\n",
              "  </tbody>\n",
              "</table>\n",
              "</div>\n",
              "      <button class=\"colab-df-convert\" onclick=\"convertToInteractive('df-ddcf1103-d9e4-4436-b5ab-c56b4aa11ee7')\"\n",
              "              title=\"Convert this dataframe to an interactive table.\"\n",
              "              style=\"display:none;\">\n",
              "        \n",
              "  <svg xmlns=\"http://www.w3.org/2000/svg\" height=\"24px\"viewBox=\"0 0 24 24\"\n",
              "       width=\"24px\">\n",
              "    <path d=\"M0 0h24v24H0V0z\" fill=\"none\"/>\n",
              "    <path d=\"M18.56 5.44l.94 2.06.94-2.06 2.06-.94-2.06-.94-.94-2.06-.94 2.06-2.06.94zm-11 1L8.5 8.5l.94-2.06 2.06-.94-2.06-.94L8.5 2.5l-.94 2.06-2.06.94zm10 10l.94 2.06.94-2.06 2.06-.94-2.06-.94-.94-2.06-.94 2.06-2.06.94z\"/><path d=\"M17.41 7.96l-1.37-1.37c-.4-.4-.92-.59-1.43-.59-.52 0-1.04.2-1.43.59L10.3 9.45l-7.72 7.72c-.78.78-.78 2.05 0 2.83L4 21.41c.39.39.9.59 1.41.59.51 0 1.02-.2 1.41-.59l7.78-7.78 2.81-2.81c.8-.78.8-2.07 0-2.86zM5.41 20L4 18.59l7.72-7.72 1.47 1.35L5.41 20z\"/>\n",
              "  </svg>\n",
              "      </button>\n",
              "      \n",
              "  <style>\n",
              "    .colab-df-container {\n",
              "      display:flex;\n",
              "      flex-wrap:wrap;\n",
              "      gap: 12px;\n",
              "    }\n",
              "\n",
              "    .colab-df-convert {\n",
              "      background-color: #E8F0FE;\n",
              "      border: none;\n",
              "      border-radius: 50%;\n",
              "      cursor: pointer;\n",
              "      display: none;\n",
              "      fill: #1967D2;\n",
              "      height: 32px;\n",
              "      padding: 0 0 0 0;\n",
              "      width: 32px;\n",
              "    }\n",
              "\n",
              "    .colab-df-convert:hover {\n",
              "      background-color: #E2EBFA;\n",
              "      box-shadow: 0px 1px 2px rgba(60, 64, 67, 0.3), 0px 1px 3px 1px rgba(60, 64, 67, 0.15);\n",
              "      fill: #174EA6;\n",
              "    }\n",
              "\n",
              "    [theme=dark] .colab-df-convert {\n",
              "      background-color: #3B4455;\n",
              "      fill: #D2E3FC;\n",
              "    }\n",
              "\n",
              "    [theme=dark] .colab-df-convert:hover {\n",
              "      background-color: #434B5C;\n",
              "      box-shadow: 0px 1px 3px 1px rgba(0, 0, 0, 0.15);\n",
              "      filter: drop-shadow(0px 1px 2px rgba(0, 0, 0, 0.3));\n",
              "      fill: #FFFFFF;\n",
              "    }\n",
              "  </style>\n",
              "\n",
              "      <script>\n",
              "        const buttonEl =\n",
              "          document.querySelector('#df-ddcf1103-d9e4-4436-b5ab-c56b4aa11ee7 button.colab-df-convert');\n",
              "        buttonEl.style.display =\n",
              "          google.colab.kernel.accessAllowed ? 'block' : 'none';\n",
              "\n",
              "        async function convertToInteractive(key) {\n",
              "          const element = document.querySelector('#df-ddcf1103-d9e4-4436-b5ab-c56b4aa11ee7');\n",
              "          const dataTable =\n",
              "            await google.colab.kernel.invokeFunction('convertToInteractive',\n",
              "                                                     [key], {});\n",
              "          if (!dataTable) return;\n",
              "\n",
              "          const docLinkHtml = 'Like what you see? Visit the ' +\n",
              "            '<a target=\"_blank\" href=https://colab.research.google.com/notebooks/data_table.ipynb>data table notebook</a>'\n",
              "            + ' to learn more about interactive tables.';\n",
              "          element.innerHTML = '';\n",
              "          dataTable['output_type'] = 'display_data';\n",
              "          await google.colab.output.renderOutput(dataTable, element);\n",
              "          const docLink = document.createElement('div');\n",
              "          docLink.innerHTML = docLinkHtml;\n",
              "          element.appendChild(docLink);\n",
              "        }\n",
              "      </script>\n",
              "    </div>\n",
              "  </div>\n",
              "  "
            ]
          },
          "metadata": {},
          "execution_count": 16
        }
      ],
      "source": [
        "# Ordenando os valores\n",
        "df.sort_values(by=\"Curtidas\",ascending=False).head(10)"
      ]
    },
    {
      "cell_type": "code",
      "execution_count": null,
      "id": "ca9fd6d2",
      "metadata": {
        "colab": {
          "base_uri": "https://localhost:8080/",
          "height": 363
        },
        "id": "ca9fd6d2",
        "outputId": "dd769eea-58ac-44b7-9134-ce3b02a1dca9"
      },
      "outputs": [
        {
          "output_type": "execute_result",
          "data": {
            "text/plain": [
              "     Tipo       Data  Curtidas  Comentários                         Tags  \\\n",
              "2    Foto 2021-09-11      2807            9                         Loja   \n",
              "0    Foto 2021-09-11      2858           16                         Loja   \n",
              "20   Foto 2021-12-16      2881           29                     Produtos   \n",
              "1    Foto 2021-09-11      2930           28                Loja/Produtos   \n",
              "17  Vídeo 2021-11-09      3213           60                     Produtos   \n",
              "15  Vídeo 2021-11-04      3646           71                     Produtos   \n",
              "9   Vídeo 2021-09-28      4056           81                     Produtos   \n",
              "4    Foto 2021-09-13      4392           45                     Produtos   \n",
              "46   Foto 2022-03-09      4613           50              Influenciadores   \n",
              "51   IGTV 2022-03-27      4934           65  Dicas de como usar/Produtos   \n",
              "\n",
              "   Pessoas Campanhas Carrossel  Interacoes   \n",
              "2        N         N         N         2816  \n",
              "0        N         N         N         2874  \n",
              "20       N         N         N         2910  \n",
              "1        N         N         N         2958  \n",
              "17       N         N         N         3273  \n",
              "15       N         N         N         3717  \n",
              "9        N         N         N         4137  \n",
              "4        S         N         N         4437  \n",
              "46       S         N         N         4663  \n",
              "51       S         N         N         4999  "
            ],
            "text/html": [
              "\n",
              "  <div id=\"df-668a70a0-e602-412e-85fe-7fadbdca687b\">\n",
              "    <div class=\"colab-df-container\">\n",
              "      <div>\n",
              "<style scoped>\n",
              "    .dataframe tbody tr th:only-of-type {\n",
              "        vertical-align: middle;\n",
              "    }\n",
              "\n",
              "    .dataframe tbody tr th {\n",
              "        vertical-align: top;\n",
              "    }\n",
              "\n",
              "    .dataframe thead th {\n",
              "        text-align: right;\n",
              "    }\n",
              "</style>\n",
              "<table border=\"1\" class=\"dataframe\">\n",
              "  <thead>\n",
              "    <tr style=\"text-align: right;\">\n",
              "      <th></th>\n",
              "      <th>Tipo</th>\n",
              "      <th>Data</th>\n",
              "      <th>Curtidas</th>\n",
              "      <th>Comentários</th>\n",
              "      <th>Tags</th>\n",
              "      <th>Pessoas</th>\n",
              "      <th>Campanhas</th>\n",
              "      <th>Carrossel</th>\n",
              "      <th>Interacoes</th>\n",
              "    </tr>\n",
              "  </thead>\n",
              "  <tbody>\n",
              "    <tr>\n",
              "      <th>2</th>\n",
              "      <td>Foto</td>\n",
              "      <td>2021-09-11</td>\n",
              "      <td>2807</td>\n",
              "      <td>9</td>\n",
              "      <td>Loja</td>\n",
              "      <td>N</td>\n",
              "      <td>N</td>\n",
              "      <td>N</td>\n",
              "      <td>2816</td>\n",
              "    </tr>\n",
              "    <tr>\n",
              "      <th>0</th>\n",
              "      <td>Foto</td>\n",
              "      <td>2021-09-11</td>\n",
              "      <td>2858</td>\n",
              "      <td>16</td>\n",
              "      <td>Loja</td>\n",
              "      <td>N</td>\n",
              "      <td>N</td>\n",
              "      <td>N</td>\n",
              "      <td>2874</td>\n",
              "    </tr>\n",
              "    <tr>\n",
              "      <th>20</th>\n",
              "      <td>Foto</td>\n",
              "      <td>2021-12-16</td>\n",
              "      <td>2881</td>\n",
              "      <td>29</td>\n",
              "      <td>Produtos</td>\n",
              "      <td>N</td>\n",
              "      <td>N</td>\n",
              "      <td>N</td>\n",
              "      <td>2910</td>\n",
              "    </tr>\n",
              "    <tr>\n",
              "      <th>1</th>\n",
              "      <td>Foto</td>\n",
              "      <td>2021-09-11</td>\n",
              "      <td>2930</td>\n",
              "      <td>28</td>\n",
              "      <td>Loja/Produtos</td>\n",
              "      <td>N</td>\n",
              "      <td>N</td>\n",
              "      <td>N</td>\n",
              "      <td>2958</td>\n",
              "    </tr>\n",
              "    <tr>\n",
              "      <th>17</th>\n",
              "      <td>Vídeo</td>\n",
              "      <td>2021-11-09</td>\n",
              "      <td>3213</td>\n",
              "      <td>60</td>\n",
              "      <td>Produtos</td>\n",
              "      <td>N</td>\n",
              "      <td>N</td>\n",
              "      <td>N</td>\n",
              "      <td>3273</td>\n",
              "    </tr>\n",
              "    <tr>\n",
              "      <th>15</th>\n",
              "      <td>Vídeo</td>\n",
              "      <td>2021-11-04</td>\n",
              "      <td>3646</td>\n",
              "      <td>71</td>\n",
              "      <td>Produtos</td>\n",
              "      <td>N</td>\n",
              "      <td>N</td>\n",
              "      <td>N</td>\n",
              "      <td>3717</td>\n",
              "    </tr>\n",
              "    <tr>\n",
              "      <th>9</th>\n",
              "      <td>Vídeo</td>\n",
              "      <td>2021-09-28</td>\n",
              "      <td>4056</td>\n",
              "      <td>81</td>\n",
              "      <td>Produtos</td>\n",
              "      <td>N</td>\n",
              "      <td>N</td>\n",
              "      <td>N</td>\n",
              "      <td>4137</td>\n",
              "    </tr>\n",
              "    <tr>\n",
              "      <th>4</th>\n",
              "      <td>Foto</td>\n",
              "      <td>2021-09-13</td>\n",
              "      <td>4392</td>\n",
              "      <td>45</td>\n",
              "      <td>Produtos</td>\n",
              "      <td>S</td>\n",
              "      <td>N</td>\n",
              "      <td>N</td>\n",
              "      <td>4437</td>\n",
              "    </tr>\n",
              "    <tr>\n",
              "      <th>46</th>\n",
              "      <td>Foto</td>\n",
              "      <td>2022-03-09</td>\n",
              "      <td>4613</td>\n",
              "      <td>50</td>\n",
              "      <td>Influenciadores</td>\n",
              "      <td>S</td>\n",
              "      <td>N</td>\n",
              "      <td>N</td>\n",
              "      <td>4663</td>\n",
              "    </tr>\n",
              "    <tr>\n",
              "      <th>51</th>\n",
              "      <td>IGTV</td>\n",
              "      <td>2022-03-27</td>\n",
              "      <td>4934</td>\n",
              "      <td>65</td>\n",
              "      <td>Dicas de como usar/Produtos</td>\n",
              "      <td>S</td>\n",
              "      <td>N</td>\n",
              "      <td>N</td>\n",
              "      <td>4999</td>\n",
              "    </tr>\n",
              "  </tbody>\n",
              "</table>\n",
              "</div>\n",
              "      <button class=\"colab-df-convert\" onclick=\"convertToInteractive('df-668a70a0-e602-412e-85fe-7fadbdca687b')\"\n",
              "              title=\"Convert this dataframe to an interactive table.\"\n",
              "              style=\"display:none;\">\n",
              "        \n",
              "  <svg xmlns=\"http://www.w3.org/2000/svg\" height=\"24px\"viewBox=\"0 0 24 24\"\n",
              "       width=\"24px\">\n",
              "    <path d=\"M0 0h24v24H0V0z\" fill=\"none\"/>\n",
              "    <path d=\"M18.56 5.44l.94 2.06.94-2.06 2.06-.94-2.06-.94-.94-2.06-.94 2.06-2.06.94zm-11 1L8.5 8.5l.94-2.06 2.06-.94-2.06-.94L8.5 2.5l-.94 2.06-2.06.94zm10 10l.94 2.06.94-2.06 2.06-.94-2.06-.94-.94-2.06-.94 2.06-2.06.94z\"/><path d=\"M17.41 7.96l-1.37-1.37c-.4-.4-.92-.59-1.43-.59-.52 0-1.04.2-1.43.59L10.3 9.45l-7.72 7.72c-.78.78-.78 2.05 0 2.83L4 21.41c.39.39.9.59 1.41.59.51 0 1.02-.2 1.41-.59l7.78-7.78 2.81-2.81c.8-.78.8-2.07 0-2.86zM5.41 20L4 18.59l7.72-7.72 1.47 1.35L5.41 20z\"/>\n",
              "  </svg>\n",
              "      </button>\n",
              "      \n",
              "  <style>\n",
              "    .colab-df-container {\n",
              "      display:flex;\n",
              "      flex-wrap:wrap;\n",
              "      gap: 12px;\n",
              "    }\n",
              "\n",
              "    .colab-df-convert {\n",
              "      background-color: #E8F0FE;\n",
              "      border: none;\n",
              "      border-radius: 50%;\n",
              "      cursor: pointer;\n",
              "      display: none;\n",
              "      fill: #1967D2;\n",
              "      height: 32px;\n",
              "      padding: 0 0 0 0;\n",
              "      width: 32px;\n",
              "    }\n",
              "\n",
              "    .colab-df-convert:hover {\n",
              "      background-color: #E2EBFA;\n",
              "      box-shadow: 0px 1px 2px rgba(60, 64, 67, 0.3), 0px 1px 3px 1px rgba(60, 64, 67, 0.15);\n",
              "      fill: #174EA6;\n",
              "    }\n",
              "\n",
              "    [theme=dark] .colab-df-convert {\n",
              "      background-color: #3B4455;\n",
              "      fill: #D2E3FC;\n",
              "    }\n",
              "\n",
              "    [theme=dark] .colab-df-convert:hover {\n",
              "      background-color: #434B5C;\n",
              "      box-shadow: 0px 1px 3px 1px rgba(0, 0, 0, 0.15);\n",
              "      filter: drop-shadow(0px 1px 2px rgba(0, 0, 0, 0.3));\n",
              "      fill: #FFFFFF;\n",
              "    }\n",
              "  </style>\n",
              "\n",
              "      <script>\n",
              "        const buttonEl =\n",
              "          document.querySelector('#df-668a70a0-e602-412e-85fe-7fadbdca687b button.colab-df-convert');\n",
              "        buttonEl.style.display =\n",
              "          google.colab.kernel.accessAllowed ? 'block' : 'none';\n",
              "\n",
              "        async function convertToInteractive(key) {\n",
              "          const element = document.querySelector('#df-668a70a0-e602-412e-85fe-7fadbdca687b');\n",
              "          const dataTable =\n",
              "            await google.colab.kernel.invokeFunction('convertToInteractive',\n",
              "                                                     [key], {});\n",
              "          if (!dataTable) return;\n",
              "\n",
              "          const docLinkHtml = 'Like what you see? Visit the ' +\n",
              "            '<a target=\"_blank\" href=https://colab.research.google.com/notebooks/data_table.ipynb>data table notebook</a>'\n",
              "            + ' to learn more about interactive tables.';\n",
              "          element.innerHTML = '';\n",
              "          dataTable['output_type'] = 'display_data';\n",
              "          await google.colab.output.renderOutput(dataTable, element);\n",
              "          const docLink = document.createElement('div');\n",
              "          docLink.innerHTML = docLinkHtml;\n",
              "          element.appendChild(docLink);\n",
              "        }\n",
              "      </script>\n",
              "    </div>\n",
              "  </div>\n",
              "  "
            ]
          },
          "metadata": {},
          "execution_count": 17
        }
      ],
      "source": [
        "# Selecionando os 5 últimos valores\n",
        "# Ordenando os valores\n",
        "df.sort_values(by=\"Curtidas\",ascending=True).head(10)"
      ]
    },
    {
      "cell_type": "markdown",
      "id": "2fd47ab7",
      "metadata": {
        "id": "2fd47ab7"
      },
      "source": [
        "- Podemos observar que no top 5 todas as postagens tinham pessoas e eram fotos de campanha\n",
        "- Nas 5 piores postagens, não haviam pessoas e nem eram postagens de campanhas\n",
        "<br><br>\n",
        "- **Isso pode ser um indicador que pessoas e campanhas tem relação com as curtidas**\n",
        "- **Carrossel aparentemente não causa grandes impactos, mas talvez pode impactar nas medianas**"
      ]
    },
    {
      "cell_type": "code",
      "execution_count": null,
      "id": "d680955b",
      "metadata": {
        "id": "d680955b"
      },
      "outputs": [],
      "source": [
        "# Para melhorar a visualização, vamos criar um padrão no formato dos valores\n",
        "pd.options.display.float_format = '{:,.2f}'.format"
      ]
    },
    {
      "cell_type": "code",
      "execution_count": null,
      "id": "750387f0",
      "metadata": {
        "colab": {
          "base_uri": "https://localhost:8080/"
        },
        "id": "750387f0",
        "outputId": "a6353f4a-467d-4bfd-f263-9d016552b0a5"
      },
      "outputs": [
        {
          "output_type": "execute_result",
          "data": {
            "text/plain": [
              "Tipo\n",
              "Foto     36\n",
              "Vídeo     6\n",
              "IGTV      5\n",
              "Reels     5\n",
              "Name: Comentários, dtype: int64"
            ]
          },
          "metadata": {},
          "execution_count": 19
        }
      ],
      "source": [
        "# Agrupando as informações por tipo\n",
        "df.groupby(\"Tipo\")[\"Comentários\"].count().sort_values(ascending=False)"
      ]
    },
    {
      "cell_type": "markdown",
      "id": "8e0fd5fa",
      "metadata": {
        "id": "8e0fd5fa"
      },
      "source": [
        "- Fotos foram as mais utilizadas como metodo de engajamento, enquantos os outros três métodos foram utilizados igualmente."
      ]
    },
    {
      "cell_type": "code",
      "execution_count": null,
      "id": "d7ffe3a8",
      "metadata": {
        "colab": {
          "base_uri": "https://localhost:8080/"
        },
        "id": "d7ffe3a8",
        "outputId": "e758b62f-9afc-4f5e-cae4-f645c615064d"
      },
      "outputs": [
        {
          "output_type": "execute_result",
          "data": {
            "text/plain": [
              "Tipo\n",
              "Reels   14,873.00\n",
              "Foto    13,341.14\n",
              "Vídeo    8,141.50\n",
              "IGTV     6,833.40\n",
              "Name: Curtidas, dtype: float64"
            ]
          },
          "metadata": {},
          "execution_count": 20
        }
      ],
      "source": [
        "df.groupby('Tipo')['Curtidas'].mean().sort_values(ascending=False)"
      ]
    },
    {
      "cell_type": "markdown",
      "id": "90e39d7c",
      "metadata": {
        "id": "90e39d7c"
      },
      "source": [
        "- **Vídeo e IGTV aparentemente são estratégias que menos engajam o público**"
      ]
    },
    {
      "cell_type": "code",
      "execution_count": null,
      "id": "99284f8f",
      "metadata": {
        "colab": {
          "base_uri": "https://localhost:8080/",
          "height": 329
        },
        "id": "99284f8f",
        "outputId": "bb9792ab-f542-4f5b-f6da-8e5e34abc443"
      },
      "outputs": [
        {
          "output_type": "display_data",
          "data": {
            "text/plain": [
              "Tipo   Pessoas\n",
              "Foto   N          3,863.50\n",
              "       S         15,236.67\n",
              "IGTV   S          6,833.40\n",
              "Reels  N          5,934.50\n",
              "       S         20,832.00\n",
              "Vídeo  N          4,007.50\n",
              "       S         16,409.50\n",
              "Name: Curtidas, dtype: float64"
            ]
          },
          "metadata": {}
        },
        {
          "output_type": "display_data",
          "data": {
            "text/plain": [
              "Tipo   Pessoas\n",
              "Reels  S         20,832.00\n",
              "Vídeo  S         16,409.50\n",
              "Foto   S         15,236.67\n",
              "IGTV   S          6,833.40\n",
              "Reels  N          5,934.50\n",
              "Vídeo  N          4,007.50\n",
              "Foto   N          3,863.50\n",
              "Name: Curtidas, dtype: float64"
            ]
          },
          "metadata": {}
        }
      ],
      "source": [
        "# Agrupando por Tipo e Pessoas\n",
        "display(df.groupby([\"Tipo\",\"Pessoas\"])[\"Curtidas\"].mean(), df.groupby([\"Tipo\",\"Pessoas\"])[\"Curtidas\"].mean().sort_values(ascending=False))"
      ]
    },
    {
      "cell_type": "markdown",
      "id": "c88797d5",
      "metadata": {
        "id": "c88797d5"
      },
      "source": [
        " - Aparentemente ter pessoas nas publicações é de extrema importância para o aumento do engajamento.\n",
        " - IGTV's aparentemente\n",
        " - Fotos e vídeos que não possuem pessoas não são uma boa ideia, visto que estão com um número de curtidas médio próximos ao do mínimo de curtidas total.\n",
        "\n",
        "**E também aplicar a função de agregação em várias outras colunas:** <br>"
      ]
    },
    {
      "cell_type": "code",
      "execution_count": null,
      "id": "5929ada6",
      "metadata": {
        "colab": {
          "base_uri": "https://localhost:8080/",
          "height": 300
        },
        "id": "5929ada6",
        "outputId": "ca6449b5-ac47-4674-9db6-e4f30015cc59"
      },
      "outputs": [
        {
          "output_type": "execute_result",
          "data": {
            "text/plain": [
              "               Curtidas  Comentários\n",
              "Tipo  Pessoas                       \n",
              "Foto  N        3,863.50        29.50\n",
              "      S       15,236.67       226.20\n",
              "IGTV  S        6,833.40       133.60\n",
              "Reels N        5,934.50        98.00\n",
              "      S       20,832.00       342.00\n",
              "Vídeo N        4,007.50        65.25\n",
              "      S       16,409.50       370.00"
            ],
            "text/html": [
              "\n",
              "  <div id=\"df-084baa01-5950-48e0-a8fe-c3ce671df5cb\">\n",
              "    <div class=\"colab-df-container\">\n",
              "      <div>\n",
              "<style scoped>\n",
              "    .dataframe tbody tr th:only-of-type {\n",
              "        vertical-align: middle;\n",
              "    }\n",
              "\n",
              "    .dataframe tbody tr th {\n",
              "        vertical-align: top;\n",
              "    }\n",
              "\n",
              "    .dataframe thead th {\n",
              "        text-align: right;\n",
              "    }\n",
              "</style>\n",
              "<table border=\"1\" class=\"dataframe\">\n",
              "  <thead>\n",
              "    <tr style=\"text-align: right;\">\n",
              "      <th></th>\n",
              "      <th></th>\n",
              "      <th>Curtidas</th>\n",
              "      <th>Comentários</th>\n",
              "    </tr>\n",
              "    <tr>\n",
              "      <th>Tipo</th>\n",
              "      <th>Pessoas</th>\n",
              "      <th></th>\n",
              "      <th></th>\n",
              "    </tr>\n",
              "  </thead>\n",
              "  <tbody>\n",
              "    <tr>\n",
              "      <th rowspan=\"2\" valign=\"top\">Foto</th>\n",
              "      <th>N</th>\n",
              "      <td>3,863.50</td>\n",
              "      <td>29.50</td>\n",
              "    </tr>\n",
              "    <tr>\n",
              "      <th>S</th>\n",
              "      <td>15,236.67</td>\n",
              "      <td>226.20</td>\n",
              "    </tr>\n",
              "    <tr>\n",
              "      <th>IGTV</th>\n",
              "      <th>S</th>\n",
              "      <td>6,833.40</td>\n",
              "      <td>133.60</td>\n",
              "    </tr>\n",
              "    <tr>\n",
              "      <th rowspan=\"2\" valign=\"top\">Reels</th>\n",
              "      <th>N</th>\n",
              "      <td>5,934.50</td>\n",
              "      <td>98.00</td>\n",
              "    </tr>\n",
              "    <tr>\n",
              "      <th>S</th>\n",
              "      <td>20,832.00</td>\n",
              "      <td>342.00</td>\n",
              "    </tr>\n",
              "    <tr>\n",
              "      <th rowspan=\"2\" valign=\"top\">Vídeo</th>\n",
              "      <th>N</th>\n",
              "      <td>4,007.50</td>\n",
              "      <td>65.25</td>\n",
              "    </tr>\n",
              "    <tr>\n",
              "      <th>S</th>\n",
              "      <td>16,409.50</td>\n",
              "      <td>370.00</td>\n",
              "    </tr>\n",
              "  </tbody>\n",
              "</table>\n",
              "</div>\n",
              "      <button class=\"colab-df-convert\" onclick=\"convertToInteractive('df-084baa01-5950-48e0-a8fe-c3ce671df5cb')\"\n",
              "              title=\"Convert this dataframe to an interactive table.\"\n",
              "              style=\"display:none;\">\n",
              "        \n",
              "  <svg xmlns=\"http://www.w3.org/2000/svg\" height=\"24px\"viewBox=\"0 0 24 24\"\n",
              "       width=\"24px\">\n",
              "    <path d=\"M0 0h24v24H0V0z\" fill=\"none\"/>\n",
              "    <path d=\"M18.56 5.44l.94 2.06.94-2.06 2.06-.94-2.06-.94-.94-2.06-.94 2.06-2.06.94zm-11 1L8.5 8.5l.94-2.06 2.06-.94-2.06-.94L8.5 2.5l-.94 2.06-2.06.94zm10 10l.94 2.06.94-2.06 2.06-.94-2.06-.94-.94-2.06-.94 2.06-2.06.94z\"/><path d=\"M17.41 7.96l-1.37-1.37c-.4-.4-.92-.59-1.43-.59-.52 0-1.04.2-1.43.59L10.3 9.45l-7.72 7.72c-.78.78-.78 2.05 0 2.83L4 21.41c.39.39.9.59 1.41.59.51 0 1.02-.2 1.41-.59l7.78-7.78 2.81-2.81c.8-.78.8-2.07 0-2.86zM5.41 20L4 18.59l7.72-7.72 1.47 1.35L5.41 20z\"/>\n",
              "  </svg>\n",
              "      </button>\n",
              "      \n",
              "  <style>\n",
              "    .colab-df-container {\n",
              "      display:flex;\n",
              "      flex-wrap:wrap;\n",
              "      gap: 12px;\n",
              "    }\n",
              "\n",
              "    .colab-df-convert {\n",
              "      background-color: #E8F0FE;\n",
              "      border: none;\n",
              "      border-radius: 50%;\n",
              "      cursor: pointer;\n",
              "      display: none;\n",
              "      fill: #1967D2;\n",
              "      height: 32px;\n",
              "      padding: 0 0 0 0;\n",
              "      width: 32px;\n",
              "    }\n",
              "\n",
              "    .colab-df-convert:hover {\n",
              "      background-color: #E2EBFA;\n",
              "      box-shadow: 0px 1px 2px rgba(60, 64, 67, 0.3), 0px 1px 3px 1px rgba(60, 64, 67, 0.15);\n",
              "      fill: #174EA6;\n",
              "    }\n",
              "\n",
              "    [theme=dark] .colab-df-convert {\n",
              "      background-color: #3B4455;\n",
              "      fill: #D2E3FC;\n",
              "    }\n",
              "\n",
              "    [theme=dark] .colab-df-convert:hover {\n",
              "      background-color: #434B5C;\n",
              "      box-shadow: 0px 1px 3px 1px rgba(0, 0, 0, 0.15);\n",
              "      filter: drop-shadow(0px 1px 2px rgba(0, 0, 0, 0.3));\n",
              "      fill: #FFFFFF;\n",
              "    }\n",
              "  </style>\n",
              "\n",
              "      <script>\n",
              "        const buttonEl =\n",
              "          document.querySelector('#df-084baa01-5950-48e0-a8fe-c3ce671df5cb button.colab-df-convert');\n",
              "        buttonEl.style.display =\n",
              "          google.colab.kernel.accessAllowed ? 'block' : 'none';\n",
              "\n",
              "        async function convertToInteractive(key) {\n",
              "          const element = document.querySelector('#df-084baa01-5950-48e0-a8fe-c3ce671df5cb');\n",
              "          const dataTable =\n",
              "            await google.colab.kernel.invokeFunction('convertToInteractive',\n",
              "                                                     [key], {});\n",
              "          if (!dataTable) return;\n",
              "\n",
              "          const docLinkHtml = 'Like what you see? Visit the ' +\n",
              "            '<a target=\"_blank\" href=https://colab.research.google.com/notebooks/data_table.ipynb>data table notebook</a>'\n",
              "            + ' to learn more about interactive tables.';\n",
              "          element.innerHTML = '';\n",
              "          dataTable['output_type'] = 'display_data';\n",
              "          await google.colab.output.renderOutput(dataTable, element);\n",
              "          const docLink = document.createElement('div');\n",
              "          docLink.innerHTML = docLinkHtml;\n",
              "          element.appendChild(docLink);\n",
              "        }\n",
              "      </script>\n",
              "    </div>\n",
              "  </div>\n",
              "  "
            ]
          },
          "metadata": {},
          "execution_count": 22
        }
      ],
      "source": [
        "df.groupby([\"Tipo\",\"Pessoas\"])[[\"Curtidas\",'Comentários']].mean()"
      ]
    },
    {
      "cell_type": "code",
      "execution_count": null,
      "id": "c6ae189f",
      "metadata": {
        "colab": {
          "base_uri": "https://localhost:8080/"
        },
        "id": "c6ae189f",
        "outputId": "8bc4b2e5-567d-421d-f0f1-aa8541a0ed01"
      },
      "outputs": [
        {
          "output_type": "execute_result",
          "data": {
            "text/plain": [
              "Tipo   Pessoas  Campanhas\n",
              "Reels  S        S           24,801.00\n",
              "Foto   S        S           19,105.38\n",
              "Vídeo  S        S           16,409.50\n",
              "Reels  S        N           12,894.00\n",
              "Foto   S        N           10,815.29\n",
              "IGTV   S        N            6,833.40\n",
              "Reels  N        N            5,934.50\n",
              "Foto   N        S            5,852.50\n",
              "Vídeo  N        N            4,007.50\n",
              "Foto   N        N            2,869.00\n",
              "Name: Curtidas, dtype: float64"
            ]
          },
          "metadata": {},
          "execution_count": 23
        }
      ],
      "source": [
        "# Incluindo a coluna de campanhas\n",
        "df.groupby([\"Tipo\",\"Pessoas\", \"Campanhas\"])[\"Curtidas\"].mean().sort_values(ascending=False)"
      ]
    },
    {
      "cell_type": "markdown",
      "id": "82a0ae24",
      "metadata": {
        "id": "82a0ae24"
      },
      "source": [
        "#### Positivo:\n",
        "- Pessoas nas publicações são essenciais para o sucesso;\n",
        "- A combinação de pessoas + campanhas funciona perfeitamente e são as que mais possuem engajamento.\n",
        "\n",
        "#### Negativo:\n",
        "- Campanhas sem alguém anunciando não parece ser uma boa ideia;\n",
        "- Reels sem pessoas e que não são campanhas engajam metade do que engajariam com uma pessoa;\n",
        "- Fotos e vídeos sem pessoas e campanhas não engajam bem"
      ]
    },
    {
      "cell_type": "markdown",
      "id": "3fdf4b0b",
      "metadata": {
        "id": "3fdf4b0b"
      },
      "source": [
        "**Podemos então fazer os agrupamentos que acharmos melhor para entender os nossos dados**"
      ]
    },
    {
      "cell_type": "code",
      "execution_count": null,
      "id": "8af88b91",
      "metadata": {
        "id": "8af88b91"
      },
      "outputs": [],
      "source": [
        "# Somente para pessoas\n",
        "#df.groupby('Pessoas').mean()"
      ]
    },
    {
      "cell_type": "markdown",
      "id": "56bfd702",
      "metadata": {
        "id": "56bfd702"
      },
      "source": [
        "  - Reafirmando a superioridade dem engajamento quando há pessoas do que quando não há.\n",
        "\n",
        "\n",
        "- **Postagens com pessoas engajam muito mais para essa marca, sendo 3 vezes maior de quando não tem pessoas**"
      ]
    },
    {
      "cell_type": "code",
      "execution_count": null,
      "id": "e2c216ae",
      "metadata": {
        "colab": {
          "base_uri": "https://localhost:8080/",
          "height": 198
        },
        "id": "e2c216ae",
        "outputId": "0821f156-e48e-46cb-8a9a-111401d75ab9"
      },
      "outputs": [
        {
          "output_type": "stream",
          "name": "stderr",
          "text": [
            "<ipython-input-25-7a4f4533a4b1>:2: FutureWarning: The default value of numeric_only in DataFrameGroupBy.mean is deprecated. In a future version, numeric_only will default to False. Either specify numeric_only or select only columns which should be valid for the function.\n",
            "  df.groupby('Campanhas').mean()\n"
          ]
        },
        {
          "output_type": "execute_result",
          "data": {
            "text/plain": [
              "           Curtidas  Comentários  Interacoes \n",
              "Campanhas                                    \n",
              "N          7,928.33       123.17     8,051.50\n",
              "S         18,173.27       279.95    18,453.23"
            ],
            "text/html": [
              "\n",
              "  <div id=\"df-8c750fd4-04e1-4c89-a0de-89bf580bd7b7\">\n",
              "    <div class=\"colab-df-container\">\n",
              "      <div>\n",
              "<style scoped>\n",
              "    .dataframe tbody tr th:only-of-type {\n",
              "        vertical-align: middle;\n",
              "    }\n",
              "\n",
              "    .dataframe tbody tr th {\n",
              "        vertical-align: top;\n",
              "    }\n",
              "\n",
              "    .dataframe thead th {\n",
              "        text-align: right;\n",
              "    }\n",
              "</style>\n",
              "<table border=\"1\" class=\"dataframe\">\n",
              "  <thead>\n",
              "    <tr style=\"text-align: right;\">\n",
              "      <th></th>\n",
              "      <th>Curtidas</th>\n",
              "      <th>Comentários</th>\n",
              "      <th>Interacoes</th>\n",
              "    </tr>\n",
              "    <tr>\n",
              "      <th>Campanhas</th>\n",
              "      <th></th>\n",
              "      <th></th>\n",
              "      <th></th>\n",
              "    </tr>\n",
              "  </thead>\n",
              "  <tbody>\n",
              "    <tr>\n",
              "      <th>N</th>\n",
              "      <td>7,928.33</td>\n",
              "      <td>123.17</td>\n",
              "      <td>8,051.50</td>\n",
              "    </tr>\n",
              "    <tr>\n",
              "      <th>S</th>\n",
              "      <td>18,173.27</td>\n",
              "      <td>279.95</td>\n",
              "      <td>18,453.23</td>\n",
              "    </tr>\n",
              "  </tbody>\n",
              "</table>\n",
              "</div>\n",
              "      <button class=\"colab-df-convert\" onclick=\"convertToInteractive('df-8c750fd4-04e1-4c89-a0de-89bf580bd7b7')\"\n",
              "              title=\"Convert this dataframe to an interactive table.\"\n",
              "              style=\"display:none;\">\n",
              "        \n",
              "  <svg xmlns=\"http://www.w3.org/2000/svg\" height=\"24px\"viewBox=\"0 0 24 24\"\n",
              "       width=\"24px\">\n",
              "    <path d=\"M0 0h24v24H0V0z\" fill=\"none\"/>\n",
              "    <path d=\"M18.56 5.44l.94 2.06.94-2.06 2.06-.94-2.06-.94-.94-2.06-.94 2.06-2.06.94zm-11 1L8.5 8.5l.94-2.06 2.06-.94-2.06-.94L8.5 2.5l-.94 2.06-2.06.94zm10 10l.94 2.06.94-2.06 2.06-.94-2.06-.94-.94-2.06-.94 2.06-2.06.94z\"/><path d=\"M17.41 7.96l-1.37-1.37c-.4-.4-.92-.59-1.43-.59-.52 0-1.04.2-1.43.59L10.3 9.45l-7.72 7.72c-.78.78-.78 2.05 0 2.83L4 21.41c.39.39.9.59 1.41.59.51 0 1.02-.2 1.41-.59l7.78-7.78 2.81-2.81c.8-.78.8-2.07 0-2.86zM5.41 20L4 18.59l7.72-7.72 1.47 1.35L5.41 20z\"/>\n",
              "  </svg>\n",
              "      </button>\n",
              "      \n",
              "  <style>\n",
              "    .colab-df-container {\n",
              "      display:flex;\n",
              "      flex-wrap:wrap;\n",
              "      gap: 12px;\n",
              "    }\n",
              "\n",
              "    .colab-df-convert {\n",
              "      background-color: #E8F0FE;\n",
              "      border: none;\n",
              "      border-radius: 50%;\n",
              "      cursor: pointer;\n",
              "      display: none;\n",
              "      fill: #1967D2;\n",
              "      height: 32px;\n",
              "      padding: 0 0 0 0;\n",
              "      width: 32px;\n",
              "    }\n",
              "\n",
              "    .colab-df-convert:hover {\n",
              "      background-color: #E2EBFA;\n",
              "      box-shadow: 0px 1px 2px rgba(60, 64, 67, 0.3), 0px 1px 3px 1px rgba(60, 64, 67, 0.15);\n",
              "      fill: #174EA6;\n",
              "    }\n",
              "\n",
              "    [theme=dark] .colab-df-convert {\n",
              "      background-color: #3B4455;\n",
              "      fill: #D2E3FC;\n",
              "    }\n",
              "\n",
              "    [theme=dark] .colab-df-convert:hover {\n",
              "      background-color: #434B5C;\n",
              "      box-shadow: 0px 1px 3px 1px rgba(0, 0, 0, 0.15);\n",
              "      filter: drop-shadow(0px 1px 2px rgba(0, 0, 0, 0.3));\n",
              "      fill: #FFFFFF;\n",
              "    }\n",
              "  </style>\n",
              "\n",
              "      <script>\n",
              "        const buttonEl =\n",
              "          document.querySelector('#df-8c750fd4-04e1-4c89-a0de-89bf580bd7b7 button.colab-df-convert');\n",
              "        buttonEl.style.display =\n",
              "          google.colab.kernel.accessAllowed ? 'block' : 'none';\n",
              "\n",
              "        async function convertToInteractive(key) {\n",
              "          const element = document.querySelector('#df-8c750fd4-04e1-4c89-a0de-89bf580bd7b7');\n",
              "          const dataTable =\n",
              "            await google.colab.kernel.invokeFunction('convertToInteractive',\n",
              "                                                     [key], {});\n",
              "          if (!dataTable) return;\n",
              "\n",
              "          const docLinkHtml = 'Like what you see? Visit the ' +\n",
              "            '<a target=\"_blank\" href=https://colab.research.google.com/notebooks/data_table.ipynb>data table notebook</a>'\n",
              "            + ' to learn more about interactive tables.';\n",
              "          element.innerHTML = '';\n",
              "          dataTable['output_type'] = 'display_data';\n",
              "          await google.colab.output.renderOutput(dataTable, element);\n",
              "          const docLink = document.createElement('div');\n",
              "          docLink.innerHTML = docLinkHtml;\n",
              "          element.appendChild(docLink);\n",
              "        }\n",
              "      </script>\n",
              "    </div>\n",
              "  </div>\n",
              "  "
            ]
          },
          "metadata": {},
          "execution_count": 25
        }
      ],
      "source": [
        "# Somente para campanhas\n",
        "df.groupby('Campanhas').mean()"
      ]
    },
    {
      "cell_type": "markdown",
      "id": "d0ca1d20",
      "metadata": {
        "id": "d0ca1d20"
      },
      "source": [
        "- **Quando é uma postagem de campanha, o engajamento também é melhor!**"
      ]
    },
    {
      "cell_type": "code",
      "execution_count": null,
      "id": "8c9fa175",
      "metadata": {
        "colab": {
          "base_uri": "https://localhost:8080/",
          "height": 198
        },
        "id": "8c9fa175",
        "outputId": "807b7a13-e562-47d2-ec8b-a8273eaec175"
      },
      "outputs": [
        {
          "output_type": "stream",
          "name": "stderr",
          "text": [
            "<ipython-input-26-a2b548dc7d56>:2: FutureWarning: The default value of numeric_only in DataFrameGroupBy.mean is deprecated. In a future version, numeric_only will default to False. Either specify numeric_only or select only columns which should be valid for the function.\n",
            "  df.groupby('Carrossel').mean()\n"
          ]
        },
        {
          "output_type": "execute_result",
          "data": {
            "text/plain": [
              "           Curtidas  Comentários  Interacoes \n",
              "Carrossel                                    \n",
              "N         12,343.61       198.43    12,542.05\n",
              "S         11,817.88       140.38    11,958.25"
            ],
            "text/html": [
              "\n",
              "  <div id=\"df-e3b13027-55e6-42e4-a5be-204c842255df\">\n",
              "    <div class=\"colab-df-container\">\n",
              "      <div>\n",
              "<style scoped>\n",
              "    .dataframe tbody tr th:only-of-type {\n",
              "        vertical-align: middle;\n",
              "    }\n",
              "\n",
              "    .dataframe tbody tr th {\n",
              "        vertical-align: top;\n",
              "    }\n",
              "\n",
              "    .dataframe thead th {\n",
              "        text-align: right;\n",
              "    }\n",
              "</style>\n",
              "<table border=\"1\" class=\"dataframe\">\n",
              "  <thead>\n",
              "    <tr style=\"text-align: right;\">\n",
              "      <th></th>\n",
              "      <th>Curtidas</th>\n",
              "      <th>Comentários</th>\n",
              "      <th>Interacoes</th>\n",
              "    </tr>\n",
              "    <tr>\n",
              "      <th>Carrossel</th>\n",
              "      <th></th>\n",
              "      <th></th>\n",
              "      <th></th>\n",
              "    </tr>\n",
              "  </thead>\n",
              "  <tbody>\n",
              "    <tr>\n",
              "      <th>N</th>\n",
              "      <td>12,343.61</td>\n",
              "      <td>198.43</td>\n",
              "      <td>12,542.05</td>\n",
              "    </tr>\n",
              "    <tr>\n",
              "      <th>S</th>\n",
              "      <td>11,817.88</td>\n",
              "      <td>140.38</td>\n",
              "      <td>11,958.25</td>\n",
              "    </tr>\n",
              "  </tbody>\n",
              "</table>\n",
              "</div>\n",
              "      <button class=\"colab-df-convert\" onclick=\"convertToInteractive('df-e3b13027-55e6-42e4-a5be-204c842255df')\"\n",
              "              title=\"Convert this dataframe to an interactive table.\"\n",
              "              style=\"display:none;\">\n",
              "        \n",
              "  <svg xmlns=\"http://www.w3.org/2000/svg\" height=\"24px\"viewBox=\"0 0 24 24\"\n",
              "       width=\"24px\">\n",
              "    <path d=\"M0 0h24v24H0V0z\" fill=\"none\"/>\n",
              "    <path d=\"M18.56 5.44l.94 2.06.94-2.06 2.06-.94-2.06-.94-.94-2.06-.94 2.06-2.06.94zm-11 1L8.5 8.5l.94-2.06 2.06-.94-2.06-.94L8.5 2.5l-.94 2.06-2.06.94zm10 10l.94 2.06.94-2.06 2.06-.94-2.06-.94-.94-2.06-.94 2.06-2.06.94z\"/><path d=\"M17.41 7.96l-1.37-1.37c-.4-.4-.92-.59-1.43-.59-.52 0-1.04.2-1.43.59L10.3 9.45l-7.72 7.72c-.78.78-.78 2.05 0 2.83L4 21.41c.39.39.9.59 1.41.59.51 0 1.02-.2 1.41-.59l7.78-7.78 2.81-2.81c.8-.78.8-2.07 0-2.86zM5.41 20L4 18.59l7.72-7.72 1.47 1.35L5.41 20z\"/>\n",
              "  </svg>\n",
              "      </button>\n",
              "      \n",
              "  <style>\n",
              "    .colab-df-container {\n",
              "      display:flex;\n",
              "      flex-wrap:wrap;\n",
              "      gap: 12px;\n",
              "    }\n",
              "\n",
              "    .colab-df-convert {\n",
              "      background-color: #E8F0FE;\n",
              "      border: none;\n",
              "      border-radius: 50%;\n",
              "      cursor: pointer;\n",
              "      display: none;\n",
              "      fill: #1967D2;\n",
              "      height: 32px;\n",
              "      padding: 0 0 0 0;\n",
              "      width: 32px;\n",
              "    }\n",
              "\n",
              "    .colab-df-convert:hover {\n",
              "      background-color: #E2EBFA;\n",
              "      box-shadow: 0px 1px 2px rgba(60, 64, 67, 0.3), 0px 1px 3px 1px rgba(60, 64, 67, 0.15);\n",
              "      fill: #174EA6;\n",
              "    }\n",
              "\n",
              "    [theme=dark] .colab-df-convert {\n",
              "      background-color: #3B4455;\n",
              "      fill: #D2E3FC;\n",
              "    }\n",
              "\n",
              "    [theme=dark] .colab-df-convert:hover {\n",
              "      background-color: #434B5C;\n",
              "      box-shadow: 0px 1px 3px 1px rgba(0, 0, 0, 0.15);\n",
              "      filter: drop-shadow(0px 1px 2px rgba(0, 0, 0, 0.3));\n",
              "      fill: #FFFFFF;\n",
              "    }\n",
              "  </style>\n",
              "\n",
              "      <script>\n",
              "        const buttonEl =\n",
              "          document.querySelector('#df-e3b13027-55e6-42e4-a5be-204c842255df button.colab-df-convert');\n",
              "        buttonEl.style.display =\n",
              "          google.colab.kernel.accessAllowed ? 'block' : 'none';\n",
              "\n",
              "        async function convertToInteractive(key) {\n",
              "          const element = document.querySelector('#df-e3b13027-55e6-42e4-a5be-204c842255df');\n",
              "          const dataTable =\n",
              "            await google.colab.kernel.invokeFunction('convertToInteractive',\n",
              "                                                     [key], {});\n",
              "          if (!dataTable) return;\n",
              "\n",
              "          const docLinkHtml = 'Like what you see? Visit the ' +\n",
              "            '<a target=\"_blank\" href=https://colab.research.google.com/notebooks/data_table.ipynb>data table notebook</a>'\n",
              "            + ' to learn more about interactive tables.';\n",
              "          element.innerHTML = '';\n",
              "          dataTable['output_type'] = 'display_data';\n",
              "          await google.colab.output.renderOutput(dataTable, element);\n",
              "          const docLink = document.createElement('div');\n",
              "          docLink.innerHTML = docLinkHtml;\n",
              "          element.appendChild(docLink);\n",
              "        }\n",
              "      </script>\n",
              "    </div>\n",
              "  </div>\n",
              "  "
            ]
          },
          "metadata": {},
          "execution_count": 26
        }
      ],
      "source": [
        "# Carrossel (sem filtrar a base)\n",
        "df.groupby('Carrossel').mean()"
      ]
    },
    {
      "cell_type": "markdown",
      "id": "b4da9dad",
      "metadata": {
        "id": "b4da9dad"
      },
      "source": [
        "- Carrossel só acontecem em fotos, portanto há necessidade de filtrar esses dados"
      ]
    },
    {
      "cell_type": "code",
      "execution_count": null,
      "id": "49a8cc25",
      "metadata": {
        "colab": {
          "base_uri": "https://localhost:8080/",
          "height": 198
        },
        "id": "49a8cc25",
        "outputId": "d080345a-3c05-4ffb-ef88-6c3bbca40f0e"
      },
      "outputs": [
        {
          "output_type": "stream",
          "name": "stderr",
          "text": [
            "<ipython-input-27-3f0e1c12cce4>:2: FutureWarning: The default value of numeric_only in DataFrameGroupBy.mean is deprecated. In a future version, numeric_only will default to False. Either specify numeric_only or select only columns which should be valid for the function.\n",
            "  df[df.Tipo == 'Foto'].groupby('Carrossel').mean()\n"
          ]
        },
        {
          "output_type": "execute_result",
          "data": {
            "text/plain": [
              "           Curtidas  Comentários  Interacoes \n",
              "Carrossel                                    \n",
              "N         13,776.36       208.57    13,984.93\n",
              "S         11,817.88       140.38    11,958.25"
            ],
            "text/html": [
              "\n",
              "  <div id=\"df-34497059-08c4-44b7-9c7e-e6fec464702f\">\n",
              "    <div class=\"colab-df-container\">\n",
              "      <div>\n",
              "<style scoped>\n",
              "    .dataframe tbody tr th:only-of-type {\n",
              "        vertical-align: middle;\n",
              "    }\n",
              "\n",
              "    .dataframe tbody tr th {\n",
              "        vertical-align: top;\n",
              "    }\n",
              "\n",
              "    .dataframe thead th {\n",
              "        text-align: right;\n",
              "    }\n",
              "</style>\n",
              "<table border=\"1\" class=\"dataframe\">\n",
              "  <thead>\n",
              "    <tr style=\"text-align: right;\">\n",
              "      <th></th>\n",
              "      <th>Curtidas</th>\n",
              "      <th>Comentários</th>\n",
              "      <th>Interacoes</th>\n",
              "    </tr>\n",
              "    <tr>\n",
              "      <th>Carrossel</th>\n",
              "      <th></th>\n",
              "      <th></th>\n",
              "      <th></th>\n",
              "    </tr>\n",
              "  </thead>\n",
              "  <tbody>\n",
              "    <tr>\n",
              "      <th>N</th>\n",
              "      <td>13,776.36</td>\n",
              "      <td>208.57</td>\n",
              "      <td>13,984.93</td>\n",
              "    </tr>\n",
              "    <tr>\n",
              "      <th>S</th>\n",
              "      <td>11,817.88</td>\n",
              "      <td>140.38</td>\n",
              "      <td>11,958.25</td>\n",
              "    </tr>\n",
              "  </tbody>\n",
              "</table>\n",
              "</div>\n",
              "      <button class=\"colab-df-convert\" onclick=\"convertToInteractive('df-34497059-08c4-44b7-9c7e-e6fec464702f')\"\n",
              "              title=\"Convert this dataframe to an interactive table.\"\n",
              "              style=\"display:none;\">\n",
              "        \n",
              "  <svg xmlns=\"http://www.w3.org/2000/svg\" height=\"24px\"viewBox=\"0 0 24 24\"\n",
              "       width=\"24px\">\n",
              "    <path d=\"M0 0h24v24H0V0z\" fill=\"none\"/>\n",
              "    <path d=\"M18.56 5.44l.94 2.06.94-2.06 2.06-.94-2.06-.94-.94-2.06-.94 2.06-2.06.94zm-11 1L8.5 8.5l.94-2.06 2.06-.94-2.06-.94L8.5 2.5l-.94 2.06-2.06.94zm10 10l.94 2.06.94-2.06 2.06-.94-2.06-.94-.94-2.06-.94 2.06-2.06.94z\"/><path d=\"M17.41 7.96l-1.37-1.37c-.4-.4-.92-.59-1.43-.59-.52 0-1.04.2-1.43.59L10.3 9.45l-7.72 7.72c-.78.78-.78 2.05 0 2.83L4 21.41c.39.39.9.59 1.41.59.51 0 1.02-.2 1.41-.59l7.78-7.78 2.81-2.81c.8-.78.8-2.07 0-2.86zM5.41 20L4 18.59l7.72-7.72 1.47 1.35L5.41 20z\"/>\n",
              "  </svg>\n",
              "      </button>\n",
              "      \n",
              "  <style>\n",
              "    .colab-df-container {\n",
              "      display:flex;\n",
              "      flex-wrap:wrap;\n",
              "      gap: 12px;\n",
              "    }\n",
              "\n",
              "    .colab-df-convert {\n",
              "      background-color: #E8F0FE;\n",
              "      border: none;\n",
              "      border-radius: 50%;\n",
              "      cursor: pointer;\n",
              "      display: none;\n",
              "      fill: #1967D2;\n",
              "      height: 32px;\n",
              "      padding: 0 0 0 0;\n",
              "      width: 32px;\n",
              "    }\n",
              "\n",
              "    .colab-df-convert:hover {\n",
              "      background-color: #E2EBFA;\n",
              "      box-shadow: 0px 1px 2px rgba(60, 64, 67, 0.3), 0px 1px 3px 1px rgba(60, 64, 67, 0.15);\n",
              "      fill: #174EA6;\n",
              "    }\n",
              "\n",
              "    [theme=dark] .colab-df-convert {\n",
              "      background-color: #3B4455;\n",
              "      fill: #D2E3FC;\n",
              "    }\n",
              "\n",
              "    [theme=dark] .colab-df-convert:hover {\n",
              "      background-color: #434B5C;\n",
              "      box-shadow: 0px 1px 3px 1px rgba(0, 0, 0, 0.15);\n",
              "      filter: drop-shadow(0px 1px 2px rgba(0, 0, 0, 0.3));\n",
              "      fill: #FFFFFF;\n",
              "    }\n",
              "  </style>\n",
              "\n",
              "      <script>\n",
              "        const buttonEl =\n",
              "          document.querySelector('#df-34497059-08c4-44b7-9c7e-e6fec464702f button.colab-df-convert');\n",
              "        buttonEl.style.display =\n",
              "          google.colab.kernel.accessAllowed ? 'block' : 'none';\n",
              "\n",
              "        async function convertToInteractive(key) {\n",
              "          const element = document.querySelector('#df-34497059-08c4-44b7-9c7e-e6fec464702f');\n",
              "          const dataTable =\n",
              "            await google.colab.kernel.invokeFunction('convertToInteractive',\n",
              "                                                     [key], {});\n",
              "          if (!dataTable) return;\n",
              "\n",
              "          const docLinkHtml = 'Like what you see? Visit the ' +\n",
              "            '<a target=\"_blank\" href=https://colab.research.google.com/notebooks/data_table.ipynb>data table notebook</a>'\n",
              "            + ' to learn more about interactive tables.';\n",
              "          element.innerHTML = '';\n",
              "          dataTable['output_type'] = 'display_data';\n",
              "          await google.colab.output.renderOutput(dataTable, element);\n",
              "          const docLink = document.createElement('div');\n",
              "          docLink.innerHTML = docLinkHtml;\n",
              "          element.appendChild(docLink);\n",
              "        }\n",
              "      </script>\n",
              "    </div>\n",
              "  </div>\n",
              "  "
            ]
          },
          "metadata": {},
          "execution_count": 27
        }
      ],
      "source": [
        "# Podemos também filtrar a base\n",
        "df[df.Tipo == 'Foto'].groupby('Carrossel').mean()"
      ]
    },
    {
      "cell_type": "markdown",
      "id": "ac54475d",
      "metadata": {
        "id": "ac54475d"
      },
      "source": [
        "- Aparentemente carrosséis não possuem grande impacto no engajamento e dão mais trabalho para serem feitos"
      ]
    },
    {
      "cell_type": "markdown",
      "id": "1b9a95df",
      "metadata": {
        "id": "1b9a95df"
      },
      "source": [
        "- **A média sem usar carrossel é melhor do que quando usamos, então não é algo que possa impactar tanto no resultado das mídias dessa empresa olhando inicialmente**\n",
        "    - Nesse caso devemos filtrar apenas as fotos pois só temos carrossel em fotos. Sem esse filtro estaríamos comparando coisas erradas"
      ]
    },
    {
      "cell_type": "markdown",
      "id": "6ee130c8",
      "metadata": {
        "id": "6ee130c8"
      },
      "source": [
        "**Colocando pessoas e campanhas juntos podemos ver como se dá essa diferença**"
      ]
    },
    {
      "cell_type": "markdown",
      "id": "cd81ea9f",
      "metadata": {
        "id": "cd81ea9f"
      },
      "source": [
        "- **A média quando tem pessoas E é publicação de campanhas é de cerca de 19,4 mil curtidas, já quando é apenas pessoas (sem campanha passa para quase 10 mil e se não tiver pessoas chega no máximo a 5,9 mil mesmo em campanhas**\n",
        "<br><br>\n",
        "- **Nesse caso a gente já consegue mostrar para a empresa a importância de incluir pessoas usando os seus produtos, o que gera um aumento considerável no engajamento**"
      ]
    },
    {
      "cell_type": "markdown",
      "id": "e23b7d3a",
      "metadata": {
        "id": "e23b7d3a"
      },
      "source": [
        "- **Analisando novamente a questão do vídeo, ele não parece mais tão ruim assim. Quando feito em campanha e usando pessoas ele teve um resultado bom, inclusive próximo a foto**\n",
        "- O que poderia ter levado a média baixa é que só temos vídeo ou COM pessoa e COM campanha ou sem nenhum dos dois. Não temos nenhum vídeo com apenas um dos dois (pessoa ou campanha)\n",
        "- Já IGTV, mesmo tendo pessoa, não teve um resultado tão bom"
      ]
    },
    {
      "cell_type": "markdown",
      "id": "faf77dee",
      "metadata": {
        "id": "faf77dee"
      },
      "source": [
        "#### Inclusive podemos entender o que havia gerado a média baixo no vídeo"
      ]
    },
    {
      "cell_type": "code",
      "execution_count": null,
      "id": "a656f5db",
      "metadata": {
        "colab": {
          "base_uri": "https://localhost:8080/",
          "height": 238
        },
        "id": "a656f5db",
        "outputId": "7b77cba1-156e-4632-d554-bfeac4d1f8b8"
      },
      "outputs": [
        {
          "output_type": "execute_result",
          "data": {
            "text/plain": [
              "     Tipo       Data  Curtidas  Comentários                 Tags Pessoas  \\\n",
              "3   Vídeo 2021-09-12      5115           49             Produtos       N   \n",
              "9   Vídeo 2021-09-28      4056           81             Produtos       N   \n",
              "15  Vídeo 2021-11-04      3646           71             Produtos       N   \n",
              "17  Vídeo 2021-11-09      3213           60             Produtos       N   \n",
              "24  Vídeo 2021-12-30     17600          383               Trends       S   \n",
              "37  Vídeo 2022-02-13     15219          357  Datas comemorativas       S   \n",
              "\n",
              "   Campanhas Carrossel  Interacoes   \n",
              "3          N         N         5164  \n",
              "9          N         N         4137  \n",
              "15         N         N         3717  \n",
              "17         N         N         3273  \n",
              "24         S         N        17983  \n",
              "37         S         N        15576  "
            ],
            "text/html": [
              "\n",
              "  <div id=\"df-6aa4025d-deee-4dae-b425-fe0bf7d18f31\">\n",
              "    <div class=\"colab-df-container\">\n",
              "      <div>\n",
              "<style scoped>\n",
              "    .dataframe tbody tr th:only-of-type {\n",
              "        vertical-align: middle;\n",
              "    }\n",
              "\n",
              "    .dataframe tbody tr th {\n",
              "        vertical-align: top;\n",
              "    }\n",
              "\n",
              "    .dataframe thead th {\n",
              "        text-align: right;\n",
              "    }\n",
              "</style>\n",
              "<table border=\"1\" class=\"dataframe\">\n",
              "  <thead>\n",
              "    <tr style=\"text-align: right;\">\n",
              "      <th></th>\n",
              "      <th>Tipo</th>\n",
              "      <th>Data</th>\n",
              "      <th>Curtidas</th>\n",
              "      <th>Comentários</th>\n",
              "      <th>Tags</th>\n",
              "      <th>Pessoas</th>\n",
              "      <th>Campanhas</th>\n",
              "      <th>Carrossel</th>\n",
              "      <th>Interacoes</th>\n",
              "    </tr>\n",
              "  </thead>\n",
              "  <tbody>\n",
              "    <tr>\n",
              "      <th>3</th>\n",
              "      <td>Vídeo</td>\n",
              "      <td>2021-09-12</td>\n",
              "      <td>5115</td>\n",
              "      <td>49</td>\n",
              "      <td>Produtos</td>\n",
              "      <td>N</td>\n",
              "      <td>N</td>\n",
              "      <td>N</td>\n",
              "      <td>5164</td>\n",
              "    </tr>\n",
              "    <tr>\n",
              "      <th>9</th>\n",
              "      <td>Vídeo</td>\n",
              "      <td>2021-09-28</td>\n",
              "      <td>4056</td>\n",
              "      <td>81</td>\n",
              "      <td>Produtos</td>\n",
              "      <td>N</td>\n",
              "      <td>N</td>\n",
              "      <td>N</td>\n",
              "      <td>4137</td>\n",
              "    </tr>\n",
              "    <tr>\n",
              "      <th>15</th>\n",
              "      <td>Vídeo</td>\n",
              "      <td>2021-11-04</td>\n",
              "      <td>3646</td>\n",
              "      <td>71</td>\n",
              "      <td>Produtos</td>\n",
              "      <td>N</td>\n",
              "      <td>N</td>\n",
              "      <td>N</td>\n",
              "      <td>3717</td>\n",
              "    </tr>\n",
              "    <tr>\n",
              "      <th>17</th>\n",
              "      <td>Vídeo</td>\n",
              "      <td>2021-11-09</td>\n",
              "      <td>3213</td>\n",
              "      <td>60</td>\n",
              "      <td>Produtos</td>\n",
              "      <td>N</td>\n",
              "      <td>N</td>\n",
              "      <td>N</td>\n",
              "      <td>3273</td>\n",
              "    </tr>\n",
              "    <tr>\n",
              "      <th>24</th>\n",
              "      <td>Vídeo</td>\n",
              "      <td>2021-12-30</td>\n",
              "      <td>17600</td>\n",
              "      <td>383</td>\n",
              "      <td>Trends</td>\n",
              "      <td>S</td>\n",
              "      <td>S</td>\n",
              "      <td>N</td>\n",
              "      <td>17983</td>\n",
              "    </tr>\n",
              "    <tr>\n",
              "      <th>37</th>\n",
              "      <td>Vídeo</td>\n",
              "      <td>2022-02-13</td>\n",
              "      <td>15219</td>\n",
              "      <td>357</td>\n",
              "      <td>Datas comemorativas</td>\n",
              "      <td>S</td>\n",
              "      <td>S</td>\n",
              "      <td>N</td>\n",
              "      <td>15576</td>\n",
              "    </tr>\n",
              "  </tbody>\n",
              "</table>\n",
              "</div>\n",
              "      <button class=\"colab-df-convert\" onclick=\"convertToInteractive('df-6aa4025d-deee-4dae-b425-fe0bf7d18f31')\"\n",
              "              title=\"Convert this dataframe to an interactive table.\"\n",
              "              style=\"display:none;\">\n",
              "        \n",
              "  <svg xmlns=\"http://www.w3.org/2000/svg\" height=\"24px\"viewBox=\"0 0 24 24\"\n",
              "       width=\"24px\">\n",
              "    <path d=\"M0 0h24v24H0V0z\" fill=\"none\"/>\n",
              "    <path d=\"M18.56 5.44l.94 2.06.94-2.06 2.06-.94-2.06-.94-.94-2.06-.94 2.06-2.06.94zm-11 1L8.5 8.5l.94-2.06 2.06-.94-2.06-.94L8.5 2.5l-.94 2.06-2.06.94zm10 10l.94 2.06.94-2.06 2.06-.94-2.06-.94-.94-2.06-.94 2.06-2.06.94z\"/><path d=\"M17.41 7.96l-1.37-1.37c-.4-.4-.92-.59-1.43-.59-.52 0-1.04.2-1.43.59L10.3 9.45l-7.72 7.72c-.78.78-.78 2.05 0 2.83L4 21.41c.39.39.9.59 1.41.59.51 0 1.02-.2 1.41-.59l7.78-7.78 2.81-2.81c.8-.78.8-2.07 0-2.86zM5.41 20L4 18.59l7.72-7.72 1.47 1.35L5.41 20z\"/>\n",
              "  </svg>\n",
              "      </button>\n",
              "      \n",
              "  <style>\n",
              "    .colab-df-container {\n",
              "      display:flex;\n",
              "      flex-wrap:wrap;\n",
              "      gap: 12px;\n",
              "    }\n",
              "\n",
              "    .colab-df-convert {\n",
              "      background-color: #E8F0FE;\n",
              "      border: none;\n",
              "      border-radius: 50%;\n",
              "      cursor: pointer;\n",
              "      display: none;\n",
              "      fill: #1967D2;\n",
              "      height: 32px;\n",
              "      padding: 0 0 0 0;\n",
              "      width: 32px;\n",
              "    }\n",
              "\n",
              "    .colab-df-convert:hover {\n",
              "      background-color: #E2EBFA;\n",
              "      box-shadow: 0px 1px 2px rgba(60, 64, 67, 0.3), 0px 1px 3px 1px rgba(60, 64, 67, 0.15);\n",
              "      fill: #174EA6;\n",
              "    }\n",
              "\n",
              "    [theme=dark] .colab-df-convert {\n",
              "      background-color: #3B4455;\n",
              "      fill: #D2E3FC;\n",
              "    }\n",
              "\n",
              "    [theme=dark] .colab-df-convert:hover {\n",
              "      background-color: #434B5C;\n",
              "      box-shadow: 0px 1px 3px 1px rgba(0, 0, 0, 0.15);\n",
              "      filter: drop-shadow(0px 1px 2px rgba(0, 0, 0, 0.3));\n",
              "      fill: #FFFFFF;\n",
              "    }\n",
              "  </style>\n",
              "\n",
              "      <script>\n",
              "        const buttonEl =\n",
              "          document.querySelector('#df-6aa4025d-deee-4dae-b425-fe0bf7d18f31 button.colab-df-convert');\n",
              "        buttonEl.style.display =\n",
              "          google.colab.kernel.accessAllowed ? 'block' : 'none';\n",
              "\n",
              "        async function convertToInteractive(key) {\n",
              "          const element = document.querySelector('#df-6aa4025d-deee-4dae-b425-fe0bf7d18f31');\n",
              "          const dataTable =\n",
              "            await google.colab.kernel.invokeFunction('convertToInteractive',\n",
              "                                                     [key], {});\n",
              "          if (!dataTable) return;\n",
              "\n",
              "          const docLinkHtml = 'Like what you see? Visit the ' +\n",
              "            '<a target=\"_blank\" href=https://colab.research.google.com/notebooks/data_table.ipynb>data table notebook</a>'\n",
              "            + ' to learn more about interactive tables.';\n",
              "          element.innerHTML = '';\n",
              "          dataTable['output_type'] = 'display_data';\n",
              "          await google.colab.output.renderOutput(dataTable, element);\n",
              "          const docLink = document.createElement('div');\n",
              "          docLink.innerHTML = docLinkHtml;\n",
              "          element.appendChild(docLink);\n",
              "        }\n",
              "      </script>\n",
              "    </div>\n",
              "  </div>\n",
              "  "
            ]
          },
          "metadata": {},
          "execution_count": 28
        }
      ],
      "source": [
        "# Vamos filtrar a base apenas onde o tipo é Vídeo\n",
        "df[df.Tipo == 'Vídeo']"
      ]
    },
    {
      "cell_type": "markdown",
      "id": "766ae14d",
      "metadata": {
        "id": "766ae14d"
      },
      "source": [
        "- **Aqui percebemos que a loja tentou postar 4 vídeos mostrando seus produtos (sem nenhuma pessoa) e o resultado foi baixo. Quando o vídeo foi feito com pessoas aproveitando trends e datas comemorativas o resultado foi muito bom!**"
      ]
    },
    {
      "cell_type": "markdown",
      "id": "e03fd135",
      "metadata": {
        "id": "e03fd135"
      },
      "source": [
        "## Conclusões\n",
        "- **Em uma análise inicial, postagens incluindo pessoas engajam muito mais que aquelas que não possui ninguém**\n",
        "- **Postagens em épocas de campanha também possuem um melhor engajamento**\n",
        "- **Nessa base, o carrossel não foi um diferencial para melhorar o engajamento da marca**"
      ]
    }
  ],
  "metadata": {
    "kernelspec": {
      "display_name": "Python 3 (ipykernel)",
      "language": "python",
      "name": "python3"
    },
    "language_info": {
      "codemirror_mode": {
        "name": "ipython",
        "version": 3
      },
      "file_extension": ".py",
      "mimetype": "text/x-python",
      "name": "python",
      "nbconvert_exporter": "python",
      "pygments_lexer": "ipython3",
      "version": "3.11.3"
    },
    "colab": {
      "provenance": [],
      "include_colab_link": true
    }
  },
  "nbformat": 4,
  "nbformat_minor": 5
}